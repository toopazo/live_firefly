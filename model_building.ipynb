{
 "cells": [
  {
   "cell_type": "markdown",
   "id": "8a6eb24f",
   "metadata": {},
   "source": [
    "# Model building"
   ]
  },
  {
   "cell_type": "code",
   "execution_count": null,
   "id": "47b8fa01",
   "metadata": {},
   "outputs": [],
   "source": [
    "%matplotlib notebook\n",
    "\n",
    "import matplotlib.pyplot as plt\n",
    "import matplotlib.cm as cm\n",
    "import numpy as np\n",
    "import pandas as pd\n",
    "\n",
    "import seaborn as sns\n",
    "\n",
    "from tools.helper_functions import moving_average, normalize, rolling_normal\n",
    "from tools.data_loader import load_flight_data, select_sequence, clean_data, apply_motor_calibration\n",
    "\n",
    "import tools.data_loader as dl\n",
    "\n",
    "from sklearn.linear_model import LinearRegression\n",
    "from sklearn.preprocessing import PolynomialFeatures\n",
    "\n",
    "from scipy.signal import savgol_filter\n",
    "from scipy.interpolate import interp1d\n",
    "from scipy.integrate import cumulative_trapezoid, simpson, romb\n",
    "        \n",
    "import glob\n",
    "import os"
   ]
  },
  {
   "cell_type": "code",
   "execution_count": null,
   "id": "d3ad4ff0",
   "metadata": {},
   "outputs": [],
   "source": [
    "%load_ext autoreload\n",
    "%autoreload 2"
   ]
  },
  {
   "cell_type": "code",
   "execution_count": null,
   "id": "c6d93544",
   "metadata": {},
   "outputs": [],
   "source": [
    "# declare ALL list objects necessary\n",
    "\n",
    "v_induced = 14.345219306215128 # induced velocity for firefly vehicle\n",
    "markersize= 15 # global markersize setting for scatter plots\n",
    "\n",
    "# set colors\n",
    "\n",
    "lowCol = '#FF7518' # pumpkin orange\n",
    "upCol = '#18A2FF' # complementary color\n",
    "\n",
    "upMeanCol = 'blue'\n",
    "lowMeanCol = 'black'\n",
    "\n",
    "armCol = upCol\n",
    "armMeanCol = 'red'"
   ]
  },
  {
   "cell_type": "markdown",
   "id": "be669857",
   "metadata": {},
   "source": [
    "## Load flight data"
   ]
  },
  {
   "cell_type": "code",
   "execution_count": null,
   "id": "311fe4b8",
   "metadata": {},
   "outputs": [],
   "source": [
    "# select test flight\n",
    "\n",
    "# first testflight\n",
    "#flight = f'../flight_data/2022-08-01_ag_field/flight_6_first_hover_flight/'\n",
    "#hover_start = 35\n",
    "#hover_end = 15\n",
    "\n",
    "# second testflight\n",
    "flight = f'../flight_data/2022-08-01_ag_field/flight_8_second_hover_flight/'\n",
    "hoverStart = 30\n",
    "hoverEnd = 30\n",
    "\n",
    "# third testflight\n",
    "#flight = f'../flight_data/2022-08-29_ag_field/flight_2_delta0_sweep/'\n",
    "#hover_start = 30\n",
    "#hover_end = 30"
   ]
  },
  {
   "cell_type": "code",
   "execution_count": null,
   "id": "a320090d",
   "metadata": {},
   "outputs": [],
   "source": [
    "fd = load_flight_data(flight)\n",
    "fd = dl.convert_time(fd)"
   ]
  },
  {
   "cell_type": "markdown",
   "id": "76ed1094",
   "metadata": {},
   "source": [
    "## Preprocessing\n",
    "\n",
    "### Rename columns and calculate power values for motors, arms and vehicle"
   ]
  },
  {
   "cell_type": "code",
   "execution_count": null,
   "id": "748b6b69",
   "metadata": {},
   "outputs": [],
   "source": [
    "fd = clean_data(fd)"
   ]
  },
  {
   "cell_type": "markdown",
   "id": "91ef17a8",
   "metadata": {},
   "source": [
    "### Apply calibration for ESC current and voltage"
   ]
  },
  {
   "cell_type": "code",
   "execution_count": null,
   "id": "006011c1",
   "metadata": {},
   "outputs": [],
   "source": [
    "fd = apply_motor_calibration(fd)"
   ]
  },
  {
   "cell_type": "code",
   "execution_count": null,
   "id": "d9734249",
   "metadata": {},
   "outputs": [],
   "source": [
    "# Perform regression RPM vs. current\n",
    "\n",
    "rpm_range = np.linspace(0, 3000, 100).reshape(-1,1)\n",
    "currentRegMotorValues = []\n",
    "currentRegCurve = []\n",
    "fd_current = []\n",
    "\n",
    "\n",
    "for i in range(1,9):\n",
    "    \n",
    "    # get all points where I3 has its minimum value and RPM is greater than 0\n",
    "    filtered = fd[fd[f'I{i}']> fd[f'I{i}'].min()]\n",
    "    filtered = filtered[filtered[f'rpm{i}']> 0]\n",
    "    \n",
    "    rpm = filtered[[f'rpm{i}']]\n",
    "    current = filtered[[f'I{i}']]\n",
    "    \n",
    "    rpmAsPolynomial = PolynomialFeatures(degree=3, include_bias=False).fit_transform(rpm)\n",
    "    \n",
    "    currentRegression = LinearRegression(fit_intercept=False, positive=True).fit(rpmAsPolynomial, current)\n",
    "\n",
    "    rpmRangePolynomial = PolynomialFeatures(degree=3, include_bias=False).fit_transform(rpm_range)\n",
    "    \n",
    "    currentPredictions = currentRegression.predict(rpmRangePolynomial)\n",
    "    \n",
    "    currentRegMotorValues.append(currentPredictions)\n",
    "    fd_current.append(filtered)\n",
    "    currentRegCurve.append(currentRegression)"
   ]
  },
  {
   "cell_type": "code",
   "execution_count": null,
   "id": "25cc45bb",
   "metadata": {},
   "outputs": [],
   "source": [
    "# correct values for current by using regression model\n",
    "\n",
    "# save value of flight data DataFrame\n",
    "#fd_corrected = fd.copy()\n",
    "fd_old = fd.copy(deep=True)\n",
    "\n",
    "# get indices where I3 is minimum\n",
    "minI3 = fd['I3']==fd[f'I3'].min()\n",
    "rpm3Data = fd['rpm3'][minI3].values.reshape(-1,1)\n",
    "\n",
    "# transform polynomial features\n",
    "rpm3Features = PolynomialFeatures(degree=3, include_bias=False).fit_transform(rpm3Data)\n",
    "\n",
    "# perform regression\n",
    "rpm3RegressionResult = currentRegCurve[2].predict(rpm3Features).reshape(-1)\n",
    "\n",
    "# apply correction to current signal\n",
    "fd.loc[minI3,'I3'] = rpm3RegressionResult"
   ]
  },
  {
   "cell_type": "markdown",
   "id": "d15f142c",
   "metadata": {},
   "source": [
    "### Calculate power and controls"
   ]
  },
  {
   "cell_type": "code",
   "execution_count": null,
   "id": "7beb2825",
   "metadata": {},
   "outputs": [],
   "source": [
    "fd = dl.calculate_power_and_rpm(fd)"
   ]
  },
  {
   "cell_type": "markdown",
   "id": "79b33ec3",
   "metadata": {},
   "source": [
    "### Calculate motor commands"
   ]
  },
  {
   "cell_type": "code",
   "execution_count": null,
   "id": "27036bc8",
   "metadata": {},
   "outputs": [],
   "source": [
    "fd = dl.calculate_motor_cmds(fd)"
   ]
  },
  {
   "cell_type": "markdown",
   "id": "8af61151",
   "metadata": {},
   "source": [
    "### Filter out hover sequence DataFrame"
   ]
  },
  {
   "cell_type": "code",
   "execution_count": null,
   "id": "e810ddbe",
   "metadata": {},
   "outputs": [],
   "source": [
    "# Reset current correction\n",
    "hoverIndex, fd_hover = select_sequence(fd, 30, 30)"
   ]
  },
  {
   "cell_type": "markdown",
   "id": "0e1c85b9",
   "metadata": {},
   "source": [
    "### Calculate mean and median values for each "
   ]
  },
  {
   "cell_type": "code",
   "execution_count": null,
   "id": "c29e923b",
   "metadata": {},
   "outputs": [],
   "source": [
    "delta0Mean = pd.pivot_table(fd_hover, index='delta0', aggfunc=np.mean)\n",
    "delta0Median = pd.pivot_table(fd_hover, index='delta0', aggfunc=np.median)"
   ]
  },
  {
   "cell_type": "markdown",
   "id": "c1de55d4",
   "metadata": {},
   "source": [
    "### Calculate mean and median values for each "
   ]
  },
  {
   "cell_type": "code",
   "execution_count": null,
   "id": "9518d42b",
   "metadata": {},
   "outputs": [],
   "source": [
    "delta0Mean = pd.pivot_table(fd_hover, index='delta0', aggfunc=np.mean)\n",
    "delta0Median = pd.pivot_table(fd_hover, index='delta0', aggfunc=np.median)"
   ]
  },
  {
   "cell_type": "markdown",
   "id": "477bcd4d",
   "metadata": {},
   "source": [
    "## Signal filtering"
   ]
  },
  {
   "cell_type": "markdown",
   "id": "0f38febd",
   "metadata": {},
   "source": [
    "### Reset time scale"
   ]
  },
  {
   "cell_type": "code",
   "execution_count": null,
   "id": "f22f041b",
   "metadata": {},
   "outputs": [],
   "source": [
    "fd_hover['t'] = np.arange(0,len(fd_hover))*(1/30) \n",
    "fd_hover['t'] = fd_hover['t'].round(4)\n",
    "fd_hover['dt'] = fd_hover['t'].diff().round(3)"
   ]
  },
  {
   "cell_type": "markdown",
   "id": "3fcf5272",
   "metadata": {},
   "source": [
    "### Filter position signal"
   ]
  },
  {
   "cell_type": "code",
   "execution_count": null,
   "id": "457ebb65",
   "metadata": {},
   "outputs": [],
   "source": [
    "fdMean = fd_hover.rolling(30,1).mean().dropna()\n",
    "fdMean5 = fd_hover.rolling(1,1).mean().dropna()\n",
    "#fdPosition = fd_hover.transform(lambda x: savgol_filter(x, 11,3))\n",
    "\n",
    "fdInterp = fd_hover.copy(deep=True)\n",
    "\n",
    "f_x = interp1d(fdInterp['t'], fdInterp['x'])\n",
    "fdInterp['x'] = f_x(fdInterp['t'])\n"
   ]
  },
  {
   "cell_type": "code",
   "execution_count": null,
   "id": "e17ef5f8",
   "metadata": {},
   "outputs": [],
   "source": [
    "fdPosition = fd_hover.copy(deep=True)\n",
    "#fdPosition = fdPosition.rolling(10).mean()\n",
    "\n",
    "# derive velocity from position\n",
    "fdPosition['dx'] = -fdPosition['x'].diff() / fdPosition['dt']\n",
    "fdPosition['dy'] = -fdPosition['y'].diff() / fdPosition['dt']\n",
    "\n",
    "fdPosition = fdPosition.dropna()\n",
    "\n",
    "# integrate position from velocity\n",
    "fdPosition['dxdt'] = (fdPosition['x'].iloc[0] - fdPosition['u'].cumsum()*fdPosition['dt'])\n",
    "fdPosition['dydt'] = (fdPosition['x'].iloc[0] -\n",
    "                      simpson(y=fdPosition['u'], x=fdPosition['t']))\n",
    "#fdPosition['dydt'] = (fdPosition['y'].iloc[0] - fdPosition['v'].cumsum()*fdPosition['dt'])\n",
    "\n",
    "#fdPosition['dxdt'] = \n",
    "#print(len(cumtrapz(y=fdPosition['u'], x=fdPosition['t'], initial=fdPosition['x'].iloc[0])))\n",
    "#print(len(fdPosition))\n",
    "#fdPosition[['x','dx','dxdt', 'dydt', 'dt']]"
   ]
  },
  {
   "cell_type": "code",
   "execution_count": null,
   "id": "7c2be05f",
   "metadata": {},
   "outputs": [],
   "source": [
    "fdPosition['pVehicle']#.iloc[a:b:step]"
   ]
  },
  {
   "cell_type": "code",
   "execution_count": null,
   "id": "f09f08c9",
   "metadata": {
    "scrolled": false
   },
   "outputs": [],
   "source": [
    "# Total power over time\n",
    "\n",
    "fig0, ax0 = plt.subplots(3,2, figsize=(10,12))\n",
    "fig0.suptitle('Comparison of power and velocity signal', fontsize=14)\n",
    "\n",
    "# Rotor pairs\n",
    "a = 600\n",
    "b = 1000\n",
    "step = 1\n",
    "\n",
    "cm = 'viridis'\n",
    "\n",
    "# x-y position\n",
    "ax0[0][0].set_title(f'Projected position')\n",
    "ax0[0][0].scatter(fd_hover['x'].iloc[a:b:step], fd_hover['y'].iloc[a:b:step], c=fd_hover['t'].iloc[a:b:step],\n",
    "                  cmap=cm, label='position', s=5)\n",
    "#ax0[0][0].scatter(fdPosition['x'].iloc[a:b], fdPosition['y'].iloc[a:b], label='position (smoothed)', s=5)\n",
    "\n",
    "# x position\n",
    "ax0[0][1].set_title(f'Position over time')\n",
    "\n",
    "\n",
    "ax0[0][1].scatter(fdPosition['t'].iloc[a:b:step], fdPosition['x'].iloc[a:b:step], c=fdPosition['t'].iloc[a:b:step],\n",
    "                  cmap=cm, label='position raw', s=5)\n",
    "\n",
    "ax0[0][1].scatter(fdPosition['t'].iloc[a:b:step], fdPosition['dxdt'].iloc[a:b:step],# c=fdPosition['t'].iloc[a:b:step],\n",
    "                  cmap='red', label='Position integrated', s=5)\n",
    "\n",
    "# x-position\n",
    "ax0[1][0].set_title(f'x-Position over time')\n",
    "ax0[1][0].plot(fdPosition['t'].iloc[a:b:step], fdPosition['x'].iloc[a:b:step]-fdPosition['x'].mean(), label='x-Signal')\n",
    "\n",
    "#ax0[1][0].plot(fdPosition['t'].iloc[a:b:step], fdPosition['dxdt'].iloc[a:b:step], label='Position integrated')\n",
    "\n",
    "# y-position\n",
    "ax0[1][1].set_title(f'y-Position over time')\n",
    "ax0[1][0].plot(fdPosition['t'].iloc[a:b:step], fdPosition['y'].iloc[a:b:step]-fdPosition['y'].mean(), label='y-Signal')\n",
    "\n",
    "ax0[1][1].plot(fdPosition['t'].iloc[a:b:step], fdPosition['pVehicle'].iloc[a:b:step], label='Position integrated')\n",
    "\n",
    "# x- velocity \n",
    "ax0[2][0].set_title(f'u over time')\n",
    "ax0[2][0].plot(fdPosition['t'].iloc[a:b:step], fdPosition['u'].iloc[a:b:step], label='u')\n",
    "ax0[2][0].plot(fdPosition['t'].iloc[a:b:step], fdPosition['dx'].iloc[a:b:step], label='u (derived)')\n",
    "\n",
    "\n",
    "# y velocity\n",
    "ax0[2][1].set_title(f'v over time')\n",
    "ax0[2][1].plot(fdPosition['t'].iloc[a:b:step], fdPosition['v'].iloc[a:b:step], label='v')\n",
    "ax0[2][1].plot(fdPosition['t'].iloc[a:b:step], fdPosition['dy'].iloc[a:b:step], label='v (derived)')\n",
    "\n",
    "# compare smoothed velocity signals\n",
    "#ax0[2][0].set_title(f'z-normalized signals')\n",
    "#ax0[2][0].plot(fd_hover['t'].iloc[a:b], fd_hover['v'].iloc[a:b], label='v')\n",
    "#ax0[2][0].plot(fdPosition['t'].iloc[a:b], fdPosition['v'].iloc[a:b], label='v (smoothed)')\n",
    "\n",
    "# Corrected signal\n",
    "#ax0[2][1].set_title(f'z-normalized signals')\n",
    "#ax0[2][1].plot(fd_hover['t'].iloc[a:b], fd_hover['w'].iloc[a:b], label='w')\n",
    "#ax0[2][1].plot(fdPosition['t'].iloc[a:b], fdPosition['w'].iloc[a:b], label='w (smoothed)')\n",
    "\n",
    "\n",
    "\n",
    "for idx in range(6):\n",
    "    \n",
    "    i = int(idx/2)\n",
    "    j = idx%2\n",
    "    print(f'i={i}, j={j}')\n",
    "    \n",
    "    ax0[i][j].grid()\n",
    "    ax0[i][j].set_xlabel('Time [s]')\n",
    "    ax0[i][j].legend()\n",
    "\n",
    "ax0[0][0].set_ylabel('Velocity [m/s]')\n",
    "ax0[0][1].set_ylabel('Power [W]')\n",
    "ax0[1][0].set_ylabel('[-]')\n",
    "ax0[1][1].set_ylabel('[-]')\n",
    "\n",
    "fig0.tight_layout()"
   ]
  },
  {
   "cell_type": "code",
   "execution_count": null,
   "id": "6e2c6c35",
   "metadata": {},
   "outputs": [],
   "source": [
    "df_corr = fdPosition.drop(columns={'t', 'dt'})\n",
    "df_corr = df_corr.dropna()\n",
    "df_corr = df_corr.corr()"
   ]
  },
  {
   "cell_type": "code",
   "execution_count": null,
   "id": "0df9fefa",
   "metadata": {},
   "outputs": [],
   "source": [
    "df_corr['pVehicle'].abs().sort_values(ascending=False).tail(60)"
   ]
  },
  {
   "cell_type": "code",
   "execution_count": null,
   "id": "a2d64d69",
   "metadata": {},
   "outputs": [],
   "source": []
  }
 ],
 "metadata": {
  "kernelspec": {
   "display_name": "Python 3 (ipykernel)",
   "language": "python",
   "name": "python3"
  },
  "language_info": {
   "codemirror_mode": {
    "name": "ipython",
    "version": 3
   },
   "file_extension": ".py",
   "mimetype": "text/x-python",
   "name": "python",
   "nbconvert_exporter": "python",
   "pygments_lexer": "ipython3",
   "version": "3.10.4"
  }
 },
 "nbformat": 4,
 "nbformat_minor": 5
}
