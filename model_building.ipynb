{
 "cells": [
  {
   "cell_type": "markdown",
   "id": "8a6eb24f",
   "metadata": {},
   "source": [
    "# Model building"
   ]
  },
  {
   "cell_type": "code",
   "execution_count": null,
   "id": "47b8fa01",
   "metadata": {},
   "outputs": [],
   "source": [
    "%matplotlib notebook\n",
    "\n",
    "import matplotlib.pyplot as plt\n",
    "import matplotlib.cm as cm\n",
    "import numpy as np\n",
    "import pandas as pd\n",
    "\n",
    "import seaborn as sns\n",
    "\n",
    "from tools.helper_functions import moving_average, normalize, rolling_normal\n",
    "from tools.data_loader import load_flight_data, select_sequence, clean_data, apply_motor_calibration\n",
    "\n",
    "import tools.data_loader as dl\n",
    "\n",
    "from sklearn.linear_model import LinearRegression, Ridge\n",
    "from sklearn.preprocessing import PolynomialFeatures\n",
    "\n",
    "from scipy.signal import savgol_filter\n",
    "from scipy.interpolate import interp1d\n",
    "from scipy.integrate import cumulative_trapezoid, simpson, romb\n",
    "        \n",
    "import glob\n",
    "import os"
   ]
  },
  {
   "cell_type": "code",
   "execution_count": null,
   "id": "d3ad4ff0",
   "metadata": {},
   "outputs": [],
   "source": [
    "%load_ext autoreload\n",
    "%autoreload 2"
   ]
  },
  {
   "cell_type": "code",
   "execution_count": null,
   "id": "c078fdaa",
   "metadata": {},
   "outputs": [],
   "source": [
    "np.set_printoptions(suppress=True)\n",
    "np.set_printoptions(linewidth=160)"
   ]
  },
  {
   "cell_type": "code",
   "execution_count": null,
   "id": "c6d93544",
   "metadata": {},
   "outputs": [],
   "source": [
    "# declare ALL list objects necessary\n",
    "\n",
    "v_induced = 14.345219306215128 # induced velocity for firefly vehicle\n",
    "markersize= 15 # global markersize setting for scatter plots\n",
    "\n",
    "# set colors\n",
    "\n",
    "lowCol = '#FF7518' # pumpkin orange\n",
    "upCol = '#18A2FF' # complementary color\n",
    "\n",
    "upMeanCol = 'blue'\n",
    "lowMeanCol = 'black'\n",
    "\n",
    "armCol = upCol\n",
    "armMeanCol = 'red'"
   ]
  },
  {
   "cell_type": "markdown",
   "id": "be669857",
   "metadata": {},
   "source": [
    "## Load flight data"
   ]
  },
  {
   "cell_type": "code",
   "execution_count": null,
   "id": "311fe4b8",
   "metadata": {},
   "outputs": [],
   "source": [
    "# select test flight\n",
    "\n",
    "# first testflight\n",
    "#flight = f'../flight_data/2022-08-01_ag_field/flight_6_first_hover_flight/'\n",
    "#hover_start = 35\n",
    "#hover_end = 15\n",
    "\n",
    "# second testflight\n",
    "flight = f'../flight_data/2022-08-01_ag_field/flight_8_second_hover_flight/'\n",
    "hoverStart = 30\n",
    "hoverEnd = 190\n",
    "\n",
    "# third testflight\n",
    "flight2 = f'../flight_data/2022-08-29_ag_field/flight_2_delta0_sweep/'\n",
    "hoverStart2 = 100\n",
    "hoverEnd2 = 510"
   ]
  },
  {
   "cell_type": "code",
   "execution_count": null,
   "id": "a320090d",
   "metadata": {},
   "outputs": [],
   "source": [
    "fd = load_flight_data(flight)\n",
    "fd2 = load_flight_data(flight2)\n",
    "\n",
    "fd = dl.convert_time(fd)\n",
    "fd2 = dl.convert_time(fd2)"
   ]
  },
  {
   "cell_type": "markdown",
   "id": "76ed1094",
   "metadata": {},
   "source": [
    "## Preprocessing\n",
    "\n",
    "### Rename columns and calculate power values for motors, arms and vehicle"
   ]
  },
  {
   "cell_type": "code",
   "execution_count": null,
   "id": "748b6b69",
   "metadata": {},
   "outputs": [],
   "source": [
    "fd = clean_data(fd)\n",
    "fd2 = clean_data(fd2)"
   ]
  },
  {
   "cell_type": "markdown",
   "id": "91ef17a8",
   "metadata": {},
   "source": [
    "### Apply calibration for ESC current and voltage"
   ]
  },
  {
   "cell_type": "code",
   "execution_count": null,
   "id": "006011c1",
   "metadata": {},
   "outputs": [],
   "source": [
    "fd = apply_motor_calibration(fd)\n",
    "fd2 = apply_motor_calibration(fd2)"
   ]
  },
  {
   "cell_type": "code",
   "execution_count": null,
   "id": "d9734249",
   "metadata": {},
   "outputs": [],
   "source": [
    "# Perform regression RPM vs. current\n",
    "\n",
    "rpm_range = np.linspace(0, 3000, 100).reshape(-1,1)\n",
    "currentRegMotorValues = []\n",
    "currentRegCurve = []\n",
    "fd_current = []\n",
    "\n",
    "\n",
    "for i in range(1,9):\n",
    "    \n",
    "    # get all points where I3 has its minimum value and RPM is greater than 0\n",
    "    filtered = fd[fd[f'I{i}']> fd[f'I{i}'].min()]\n",
    "    filtered = filtered[filtered[f'rpm{i}']> 0]\n",
    "    \n",
    "    rpm = filtered[[f'rpm{i}']]\n",
    "    current = filtered[[f'I{i}']]\n",
    "    \n",
    "    rpmAsPolynomial = PolynomialFeatures(degree=3, include_bias=False).fit_transform(rpm)\n",
    "    \n",
    "    currentRegression = LinearRegression(fit_intercept=False, positive=True).fit(rpmAsPolynomial, current)\n",
    "\n",
    "    rpmRangePolynomial = PolynomialFeatures(degree=3, include_bias=False).fit_transform(rpm_range)\n",
    "    \n",
    "    currentPredictions = currentRegression.predict(rpmRangePolynomial)\n",
    "    \n",
    "    currentRegMotorValues.append(currentPredictions)\n",
    "    fd_current.append(filtered)\n",
    "    currentRegCurve.append(currentRegression)"
   ]
  },
  {
   "cell_type": "code",
   "execution_count": null,
   "id": "25cc45bb",
   "metadata": {},
   "outputs": [],
   "source": [
    "# correct values for current by using regression model\n",
    "\n",
    "# save value of flight data DataFrame\n",
    "#fd_corrected = fd.copy()\n",
    "fd_old = fd.copy(deep=True)\n",
    "\n",
    "# get indices where I3 is minimum\n",
    "minI3 = fd['I3']==fd[f'I3'].min()\n",
    "rpm3Data = fd['rpm3'][minI3].values.reshape(-1,1)\n",
    "\n",
    "# transform polynomial features\n",
    "rpm3Features = PolynomialFeatures(degree=3, include_bias=False).fit_transform(rpm3Data)\n",
    "\n",
    "# perform regression\n",
    "rpm3RegressionResult = currentRegCurve[2].predict(rpm3Features).reshape(-1)\n",
    "\n",
    "# apply correction to current signal\n",
    "fd.loc[minI3,'I3'] = rpm3RegressionResult"
   ]
  },
  {
   "cell_type": "markdown",
   "id": "d15f142c",
   "metadata": {},
   "source": [
    "### Calculate power and controls"
   ]
  },
  {
   "cell_type": "code",
   "execution_count": null,
   "id": "7beb2825",
   "metadata": {},
   "outputs": [],
   "source": [
    "fd = dl.calculate_power_and_rpm(fd)\n",
    "fd2 = dl.calculate_power_and_rpm(fd2)"
   ]
  },
  {
   "cell_type": "markdown",
   "id": "79b33ec3",
   "metadata": {},
   "source": [
    "### Calculate motor commands"
   ]
  },
  {
   "cell_type": "code",
   "execution_count": null,
   "id": "27036bc8",
   "metadata": {},
   "outputs": [],
   "source": [
    "fd = dl.calculate_motor_cmds(fd)\n",
    "fd2 = dl.calculate_motor_cmds(fd2)"
   ]
  },
  {
   "cell_type": "markdown",
   "id": "8af61151",
   "metadata": {},
   "source": [
    "### Filter out hover sequence DataFrame"
   ]
  },
  {
   "cell_type": "code",
   "execution_count": null,
   "id": "e810ddbe",
   "metadata": {},
   "outputs": [],
   "source": [
    "# Reset current correction\n",
    "hoverIndex1, fd_hover1 = select_sequence(fd, hoverStart, hoverEnd)\n",
    "hoverIndex2, fd_hover2 = select_sequence(fd2, hoverStart2, hoverEnd2)"
   ]
  },
  {
   "cell_type": "markdown",
   "id": "19b86965",
   "metadata": {},
   "source": [
    "### Remove values after $\\Delta_0$-step"
   ]
  },
  {
   "cell_type": "code",
   "execution_count": null,
   "id": "e9aa7c5a",
   "metadata": {},
   "outputs": [],
   "source": [
    "steps1 = fd_hover1[np.abs(fd_hover1['delta0'].diff()) > 0]\n",
    "steps2 = fd_hover2[np.abs(fd_hover2['delta0'].diff()) > 0]\n",
    "\n",
    "for i in steps1.index:\n",
    "    toDrop = np.arange(i,i+20)\n",
    "    fd_hover1 = fd_hover1.drop(index=toDrop)\n",
    "    \n",
    "for i in steps2.index:\n",
    "    toDrop = np.arange(i,i+20)\n",
    "    fd_hover2 = fd_hover2.drop(index=toDrop)"
   ]
  },
  {
   "cell_type": "markdown",
   "id": "059cfb4e",
   "metadata": {},
   "source": [
    "### Concatenate two flights"
   ]
  },
  {
   "cell_type": "code",
   "execution_count": null,
   "id": "b0bbb47c",
   "metadata": {},
   "outputs": [],
   "source": [
    "fd_hover = pd.concat([fd_hover1, fd_hover2])\n",
    "fd_hover['t'] = np.arange(0,len(fd_hover)/30, 1/30)"
   ]
  },
  {
   "cell_type": "markdown",
   "id": "477bcd4d",
   "metadata": {},
   "source": [
    "## Signal filtering"
   ]
  },
  {
   "cell_type": "markdown",
   "id": "8fa90cbc",
   "metadata": {},
   "source": [
    "### Apply filter so individual signals"
   ]
  },
  {
   "cell_type": "code",
   "execution_count": null,
   "id": "f09f08c9",
   "metadata": {
    "scrolled": false
   },
   "outputs": [],
   "source": [
    "# Total power over time\n",
    "\n",
    "fig0, ax0 = plt.subplots(2,2, figsize=(10,8))\n",
    "fig0.suptitle('Comparison of power and velocity signal', fontsize=14)\n",
    "\n",
    "# Rotor pairs\n",
    "a = 0\n",
    "b = -1\n",
    "step = 1\n",
    "\n",
    "cm = 'viridis'\n",
    "\n",
    "# x-position\n",
    "ax0[0][0].set_title(f'x-Position over time')\n",
    "ax0[0][0].plot(fd_hover1['t'], fd_hover1['w'], label='u-Signal')\n",
    "ax0[1][0].plot(fd_hover2['t'], fd_hover2['w'], label='u-Signal')\n",
    "\n",
    "# y-position\n",
    "ax0[0][1].set_title(f'Power over time')\n",
    "\n",
    "ax0[0][1].plot(fd_hover1['t'], fd_hover1['pVehicle'] - fd_hover1['pVehicle'].mean(), label='power-Signal')\n",
    "ax0[1][1].plot(fd_hover2['t'], fd_hover2['pVehicle'] - fd_hover2['pVehicle'].mean(), label='power-Signal')\n",
    "\n",
    "for idx in range(4):\n",
    "    \n",
    "    i = int(idx/2)\n",
    "    j = idx%2\n",
    "    \n",
    "    ax0[i][j].grid()\n",
    "    ax0[i][j].set_xlabel('Time [s]')\n",
    "    ax0[i][j].legend()\n",
    "\n",
    "ax0[0][0].set_ylabel('Velocity [m/s]')\n",
    "ax0[0][1].set_ylabel('Power [W]')\n",
    "ax0[1][0].set_ylabel('[-]')\n",
    "ax0[1][1].set_ylabel('[-]')\n",
    "\n",
    "fig0.tight_layout()"
   ]
  },
  {
   "cell_type": "markdown",
   "id": "fd623cb3",
   "metadata": {},
   "source": [
    "# Regression model for power"
   ]
  },
  {
   "cell_type": "markdown",
   "id": "bb9091c5",
   "metadata": {},
   "source": [
    "## Linear model"
   ]
  },
  {
   "cell_type": "code",
   "execution_count": null,
   "id": "f3c68c92",
   "metadata": {},
   "outputs": [],
   "source": [
    "from sklearn.metrics import mean_squared_error, mean_absolute_error\n",
    "from sklearn.preprocessing import StandardScaler\n",
    "from sklearn.model_selection import train_test_split"
   ]
  },
  {
   "cell_type": "code",
   "execution_count": null,
   "id": "1cbb859c",
   "metadata": {},
   "outputs": [],
   "source": [
    "fd_hover['pMo1'].mean()"
   ]
  },
  {
   "cell_type": "code",
   "execution_count": null,
   "id": "88031fc1",
   "metadata": {},
   "outputs": [],
   "source": [
    "fd_hover1['delta0^2'] = fd_hover1['delta0'] ** 2\n",
    "fd_hover2['delta0^2'] = fd_hover2['delta0'] ** 2\n",
    "fd_hover['delta0^2'] = fd_hover['delta0'] ** 2"
   ]
  },
  {
   "cell_type": "code",
   "execution_count": null,
   "id": "3f1ad98a",
   "metadata": {},
   "outputs": [],
   "source": [
    "# assemble features and y-values\n",
    "featureSet1 = []\n",
    "featureSet2 = []\n",
    "featureSet3 = []\n",
    "\n",
    "output = []\n",
    "\n",
    "for i in range(1,9):\n",
    "    featureSet1.append(f'uOut{i}')\n",
    "    featureSet2.append(f'uOut{i}')\n",
    "    featureSet3.append(f'uOut{i}')\n",
    "    output.append(f'pMo{i}')\n",
    "\n",
    "# add features to set 1\n",
    "featureSet1.append('delta0^2')\n",
    "\n",
    "# add features to set 2 \n",
    "featureSet2.append('delta0^2')\n",
    "#featureSet2.append('z')\n",
    "\n",
    "# add features to set 3\n",
    "featureSet3.append('delta0^2')\n",
    "featureSet3.append('p')\n",
    "featureSet3.append('q')\n",
    "\n",
    "X1, X1_test, Y1, Y1_test = train_test_split(fd_hover1[featureSet1].copy(deep=True),\n",
    "                                            fd_hover1[output].copy(deep=True),\n",
    "                                            test_size=0.2, random_state=42)\n",
    "\n",
    "X2, X2_test, Y2, Y2_test = train_test_split(fd_hover2[featureSet2].copy(deep=True),\n",
    "                                            fd_hover2[output].copy(deep=True),\n",
    "                                            test_size=0.2, random_state=42)\n",
    "\n",
    "X3, X3_test, Y3, Y3_test = train_test_split(fd_hover[featureSet3].copy(deep=True),\n",
    "                                            fd_hover[output].copy(deep=True),\n",
    "                                            test_size=0.2, random_state=42)\n",
    "\n",
    "X1_full = fd_hover1[featureSet1].copy(deep=True)\n",
    "X2_full = fd_hover2[featureSet2].copy(deep=True)\n",
    "X3_full = fd_hover[featureSet3].copy(deep=True)\n",
    "\n",
    "Y1_full = fd_hover1[output].copy(deep=True)\n",
    "Y2_full = fd_hover2[output].copy(deep=True)\n",
    "Y3_full = fd_hover[output].copy(deep=True)"
   ]
  },
  {
   "cell_type": "code",
   "execution_count": null,
   "id": "c7c03c64",
   "metadata": {},
   "outputs": [],
   "source": [
    "# Perform multiple linear regression\n",
    "powerRegression1 = LinearRegression().fit(X1, Y1)\n",
    "\n",
    "powerRegression2 = LinearRegression().fit(X2, Y2)\n",
    "\n",
    "powerRegression3 = LinearRegression().fit(X3, Y3)"
   ]
  },
  {
   "cell_type": "code",
   "execution_count": null,
   "id": "7b2180a4",
   "metadata": {},
   "outputs": [],
   "source": [
    "systemMatrix1 = powerRegression1.coef_.round(2)\n",
    "systemMatrix2 = powerRegression2.coef_.round(2)\n",
    "systemMatrix3 = powerRegression3.coef_.round(2)\n",
    "\n",
    "bias1 = powerRegression1.intercept_\n",
    "bias2 = powerRegression2.intercept_\n",
    "bias3 = powerRegression3.intercept_"
   ]
  },
  {
   "cell_type": "code",
   "execution_count": null,
   "id": "bcaed87d",
   "metadata": {},
   "outputs": [],
   "source": [
    "print('System maxtrix: Flight 1\\n')\n",
    "print(f'{systemMatrix1}')"
   ]
  },
  {
   "cell_type": "code",
   "execution_count": null,
   "id": "97d71921",
   "metadata": {},
   "outputs": [],
   "source": [
    "print('System maxtrix: Flight 2\\n')\n",
    "\n",
    "print(f'{systemMatrix2}')"
   ]
  },
  {
   "cell_type": "code",
   "execution_count": null,
   "id": "6aed49bb",
   "metadata": {},
   "outputs": [],
   "source": [
    "print('System maxtrix: Combined\\n')\n",
    "print(f'{systemMatrix3}')"
   ]
  },
  {
   "cell_type": "code",
   "execution_count": null,
   "id": "1cf158d0",
   "metadata": {},
   "outputs": [],
   "source": [
    "print(f'{bias1}')"
   ]
  },
  {
   "cell_type": "code",
   "execution_count": null,
   "id": "ebece15c",
   "metadata": {},
   "outputs": [],
   "source": [
    "print(f'{bias2}')"
   ]
  },
  {
   "cell_type": "code",
   "execution_count": null,
   "id": "f9e7a418",
   "metadata": {},
   "outputs": [],
   "source": [
    "print(f'{bias3}')"
   ]
  },
  {
   "cell_type": "code",
   "execution_count": null,
   "id": "f5aabefd",
   "metadata": {},
   "outputs": [],
   "source": [
    "yPredictionsTrain1 = X1.dot(systemMatrix1.T) + bias1\n",
    "yPredictionsTrain2 = X2.dot(systemMatrix2.T) + bias2\n",
    "yPredictionsTrain3 = X3.dot(systemMatrix3.T) + bias3\n",
    "\n",
    "yPredictionsTest1 = X1_test.dot(systemMatrix1.T) + bias1\n",
    "yPredictionsTest2 = X2_test.dot(systemMatrix2.T) + bias2\n",
    "yPredictionsTest3 = X3_test.dot(systemMatrix3.T) + bias3\n",
    "\n",
    "yPredictionsFull1 = X1_full.dot(systemMatrix1.T) + bias1\n",
    "yPredictionsFull2 = X2_full.dot(systemMatrix2.T) + bias2\n",
    "yPredictionsFull3 = X3_full.dot(systemMatrix3.T) + bias3\n",
    "\n",
    "yPredictionsTrain1.columns = [f'pMo{i}' for i in range(1,9)]\n",
    "yPredictionsTrain2.columns = [f'pMo{i}' for i in range(1,9)]\n",
    "yPredictionsTrain3.columns = [f'pMo{i}' for i in range(1,9)]\n",
    "\n",
    "yPredictionsTest1.columns = [f'pMo{i}' for i in range(1,9)]\n",
    "yPredictionsTest2.columns = [f'pMo{i}' for i in range(1,9)]\n",
    "yPredictionsTest3.columns = [f'pMo{i}' for i in range(1,9)]\n",
    "\n",
    "yPredictionsFull1.columns = [f'pMo{i}' for i in range(1,9)]\n",
    "yPredictionsFull2.columns = [f'pMo{i}' for i in range(1,9)]\n",
    "yPredictionsFull3.columns = [f'pMo{i}' for i in range(1,9)]"
   ]
  },
  {
   "cell_type": "code",
   "execution_count": null,
   "id": "e26f5912",
   "metadata": {},
   "outputs": [],
   "source": [
    "# calculate prediction error\n",
    "\n",
    "predictionErrorTrain1 = Y1 - yPredictionsTrain1\n",
    "predictionErrorTrain2 = Y2 - yPredictionsTrain2\n",
    "predictionErrorTrain3 = Y3 - yPredictionsTrain3\n",
    "\n",
    "predictionErrorTest1 = Y1_test - yPredictionsTest1\n",
    "predictionErrorTest2 = Y2_test - yPredictionsTest2\n",
    "predictionErrorTest3 = Y3_test - yPredictionsTest3\n",
    "\n",
    "predictionErrorFull1 = Y1_full - yPredictionsFull1\n",
    "predictionErrorFull2 = Y2_full - yPredictionsFull2\n",
    "predictionErrorFull3 = Y3_full - yPredictionsFull3\n",
    "\n",
    "predictionErrorTrainMean1 = predictionErrorTrain1.rolling(30,1).mean()\n",
    "predictionErrorTrainMean2 = predictionErrorTrain2.rolling(30,1).mean()\n",
    "predictionErrorTrainMean3 = predictionErrorTrain3.rolling(30,1).mean()\n",
    "\n",
    "predictionErrorTestMean1 = predictionErrorTest1.rolling(30,1).mean()\n",
    "predictionErrorTestMean2 = predictionErrorTest2.rolling(30,1).mean()\n",
    "predictionErrorTestMean3 = predictionErrorTest3.rolling(30,1).mean()\n",
    "\n",
    "predictionErrorFullMean1 = predictionErrorFull1.rolling(30,1).mean()\n",
    "predictionErrorFullMean2 = predictionErrorFull2.rolling(30,1).mean()\n",
    "predictionErrorFullMean3 = predictionErrorFull3.rolling(30,1).mean()\n",
    "\n",
    "# mean absolute error\n",
    "MAE1 = np.around(mean_absolute_error(Y1, yPredictionsTrain1, multioutput='raw_values'),2)\n",
    "MAE2 = np.around(mean_absolute_error(Y2, yPredictionsTrain2, multioutput='raw_values'),2)\n",
    "MAE3 = np.around(mean_absolute_error(Y3, yPredictionsTrain3, multioutput='raw_values'),2)\n",
    "\n",
    "MAE1_test = np.around(mean_absolute_error(Y1_test, yPredictionsTest1, multioutput='raw_values'),2)\n",
    "MAE2_test = np.around(mean_absolute_error(Y2_test, yPredictionsTest2, multioutput='raw_values'),2)\n",
    "MAE3_test = np.around(mean_absolute_error(Y3_test, yPredictionsTest3, multioutput='raw_values'),2)\n",
    "\n",
    "MAE1_full = np.around(mean_absolute_error(Y1_full, yPredictionsFull1, multioutput='raw_values'),2)\n",
    "MAE2_full = np.around(mean_absolute_error(Y2_full, yPredictionsFull2, multioutput='raw_values'),2)\n",
    "MAE3_full = np.around(mean_absolute_error(Y3_full, yPredictionsFull3, multioutput='raw_values'),2)"
   ]
  },
  {
   "cell_type": "code",
   "execution_count": null,
   "id": "2af6ab36",
   "metadata": {},
   "outputs": [],
   "source": [
    "print('MAE training flight 1: ' + str(MAE1))\n",
    "print('MAE training flight 2: ' + str(MAE2))\n",
    "print('MAE training combined: ' + str(MAE3))\n",
    "\n",
    "print(\"\")\n",
    "\n",
    "print('MAE test flight 1: ' + str(MAE1_test))\n",
    "print('MAE test flight 2: ' + str(MAE2_test))\n",
    "print('MAE test combined: ' + str(MAE3_test))\n",
    "\n",
    "print(\"\")\n",
    "\n",
    "print('MAE total flight 1: ' + str(MAE1_full))\n",
    "print('MAE total flight 2: ' + str(MAE2_full))\n",
    "print('MAE total combined: ' + str(MAE3_full))"
   ]
  },
  {
   "cell_type": "code",
   "execution_count": null,
   "id": "9fcdc964",
   "metadata": {
    "scrolled": false
   },
   "outputs": [],
   "source": [
    "# plot power over time\n",
    "\n",
    "fig2, ax2 = plt.subplots(4, 2, figsize=(10,16))\n",
    "fig2.suptitle('Coparison between predicted and true motor power', fontsize=14, y=1.05)\n",
    "\n",
    "for idx in range(8):\n",
    "    \n",
    "    i = int(idx/2)\n",
    "    j = idx % 2\n",
    "    \n",
    "    ax2[i][j].plot(fd_hover1['t'], predictionErrorFull1[f'pMo{idx+1}'])\n",
    "    ax2[i][j].plot(fd_hover1['t'], predictionErrorFullMean1[f'pMo{idx+1}'])\n",
    "\n",
    "    ax2[i][j].set_title(f'Prediction error motor {idx+1}')\n",
    "    \n",
    "    ax2[i][j].set_ylim(-50,50)\n",
    "    ax2[i][j].set_xlabel('time [s]')\n",
    "    ax2[i][j].set_ylabel('Prediction error [W]')\n",
    "    ax2[i][j].grid()\n",
    "\n",
    "fig2.tight_layout()"
   ]
  },
  {
   "cell_type": "code",
   "execution_count": null,
   "id": "804a90e0",
   "metadata": {
    "scrolled": false
   },
   "outputs": [],
   "source": [
    "# plot power over time\n",
    "\n",
    "fig3, ax3 = plt.subplots(4, 2, figsize=(10,16))\n",
    "fig3.suptitle('Coparison between predicted and true motor power', fontsize=14)\n",
    "\n",
    "for idx in range(8):\n",
    "    \n",
    "    i = int(idx/2)\n",
    "    j = idx % 2\n",
    "    \n",
    "    ax3[i][j].plot(fd_hover2['t'], predictionErrorFull2[f'pMo{idx+1}'])\n",
    "    ax3[i][j].plot(fd_hover2['t'], predictionErrorFullMean2[f'pMo{idx+1}'])\n",
    "\n",
    "    ax3[i][j].set_title(f'Prediction error motor {idx+1}')\n",
    "    \n",
    "    ax3[i][j].set_ylim(-100,100)\n",
    "    ax3[i][j].set_xlabel('time [s]')\n",
    "    ax3[i][j].set_ylabel('Prediction error [%]')\n",
    "    \n",
    "    ax3[i][j].grid()\n",
    "\n",
    "fig3.tight_layout()"
   ]
  },
  {
   "cell_type": "code",
   "execution_count": null,
   "id": "d85cb0d5",
   "metadata": {
    "scrolled": false
   },
   "outputs": [],
   "source": [
    "# plot power over time\n",
    "\n",
    "fig4, ax4 = plt.subplots(4, 2, figsize=(10,16))\n",
    "fig4.suptitle('Coparison between predicted and true motor power', fontsize=14)\n",
    "\n",
    "for idx in range(8):\n",
    "    \n",
    "    i = int(idx/2)\n",
    "    j = idx % 2\n",
    "    \n",
    "    ax4[i][j].plot(fd_hover['t'], predictionErrorFull3[f'pMo{idx+1}'])\n",
    "    ax4[i][j].plot(fd_hover['t'], predictionErrorFullMean3[f'pMo{idx+1}'])\n",
    "\n",
    "    ax4[i][j].set_title(f'Prediction error motor {idx+1}')\n",
    "    \n",
    "    ax4[i][j].set_ylim(-100,100)\n",
    "    ax4[i][j].set_xlabel('time [s]')\n",
    "    ax4[i][j].set_ylabel('Prediction error [%]')\n",
    "    \n",
    "    ax4[i][j].grid()\n",
    "\n",
    "fig3.tight_layout()"
   ]
  },
  {
   "cell_type": "code",
   "execution_count": null,
   "id": "4e9fff05",
   "metadata": {},
   "outputs": [],
   "source": [
    "fdHover = fd_hover.copy(deep=True)"
   ]
  },
  {
   "cell_type": "code",
   "execution_count": null,
   "id": "64c5a479",
   "metadata": {},
   "outputs": [],
   "source": [
    "fdHover.update(predictionErrorFull3)"
   ]
  },
  {
   "cell_type": "code",
   "execution_count": null,
   "id": "cb163f09",
   "metadata": {},
   "outputs": [],
   "source": [
    "predictionErrorFull3"
   ]
  },
  {
   "cell_type": "code",
   "execution_count": null,
   "id": "9ce07936",
   "metadata": {},
   "outputs": [],
   "source": [
    "fdHover.corr()['pMo2'].abs().sort_values(ascending=False).head(60)"
   ]
  },
  {
   "cell_type": "markdown",
   "id": "5ae7c6a9",
   "metadata": {},
   "source": [
    "-> Correlated with other CCW motors"
   ]
  },
  {
   "cell_type": "code",
   "execution_count": null,
   "id": "bb0d8dd8",
   "metadata": {},
   "outputs": [],
   "source": [
    "fdHover.corr()['pVehicle'].abs().sort_values(ascending=False).head(60)"
   ]
  },
  {
   "cell_type": "code",
   "execution_count": null,
   "id": "66b53296",
   "metadata": {},
   "outputs": [],
   "source": [
    "fdHover.columns"
   ]
  },
  {
   "cell_type": "code",
   "execution_count": null,
   "id": "19004ce1",
   "metadata": {},
   "outputs": [],
   "source": []
  }
 ],
 "metadata": {
  "kernelspec": {
   "display_name": "Python 3 (ipykernel)",
   "language": "python",
   "name": "python3"
  },
  "language_info": {
   "codemirror_mode": {
    "name": "ipython",
    "version": 3
   },
   "file_extension": ".py",
   "mimetype": "text/x-python",
   "name": "python",
   "nbconvert_exporter": "python",
   "pygments_lexer": "ipython3",
   "version": "3.10.4"
  }
 },
 "nbformat": 4,
 "nbformat_minor": 5
}
