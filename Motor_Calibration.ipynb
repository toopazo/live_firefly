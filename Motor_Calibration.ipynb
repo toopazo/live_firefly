{
 "cells": [
  {
   "cell_type": "markdown",
   "id": "99347910",
   "metadata": {},
   "source": [
    "# Calibration of motor current"
   ]
  },
  {
   "cell_type": "code",
   "execution_count": null,
   "id": "47b8fa01",
   "metadata": {},
   "outputs": [],
   "source": [
    "%matplotlib notebook\n",
    "\n",
    "import matplotlib.pyplot as plt\n",
    "import matplotlib.cm as cm\n",
    "import numpy as np\n",
    "import pandas as pd\n",
    "\n",
    "from tools.data_loader import moving_average\n",
    "\n",
    "import glob\n",
    "import os"
   ]
  },
  {
   "cell_type": "code",
   "execution_count": null,
   "id": "63fe1026",
   "metadata": {},
   "outputs": [],
   "source": [
    "# get the .csv files for the given velocity limit\n",
    "def get_files_for_limit(limit, flight, discard=True):\n",
    "    \n",
    "    v_induced = 14.345219306215128\n",
    "    v_limit = limit * 0.01 * v_induced\n",
    "    data_directory = flight + f'hover_{limit}_limit'\n",
    "    csv_files = glob.glob(os.path.join(data_directory, \"*.csv\"))\n",
    "    #print(csv_files)\n",
    "    sorted_files = []\n",
    "    #return csv_files\n",
    "    # sort sequences in ascending order\n",
    "    for i in range(len(csv_files)):\n",
    "        for e in csv_files:\n",
    "            if f'sequence_{i}_' in e:\n",
    "                #print(e)\n",
    "                sorted_files.append(e)\n",
    "                break\n",
    "    \n",
    "    # discard first and land sequence (vehicle on ground before takeoff and after landing)\n",
    "    if discard:\n",
    "        return sorted_files[1:-1]\n",
    "    \n",
    "    else:\n",
    "        return sorted_files\n",
    "    "
   ]
  },
  {
   "cell_type": "code",
   "execution_count": null,
   "id": "300c37ff",
   "metadata": {},
   "outputs": [],
   "source": [
    "def get_motor_data()"
   ]
  },
  {
   "cell_type": "code",
   "execution_count": null,
   "id": "a320090d",
   "metadata": {},
   "outputs": [],
   "source": [
    "motor = 8\n",
    "\n",
    "filepath_voltage = f'/home/gregor/Masterarbeit/flight_data/2022-08-08_test_rig/voltage_motor_{motor}/'\n",
    "filepath_current = f'/home/gregor/Masterarbeit/flight_data/2022-08-08_test_rig/current_motor_{motor}/'\n",
    "\n",
    "files_current = get_files_for_limit(10, filepath_current, discard=False)\n",
    "files_voltage = get_files_for_limit(10, filepath_voltage, discard=False)\n",
    "\n",
    "current_data = pd.DataFrame()\n",
    "voltage_data = pd.DataFrame()\n",
    "\n",
    "# stack sequences\n",
    "for file in files_current:\n",
    "    current_data = pd.concat([current_data, pd.read_csv(file)])\n",
    "    \n",
    "for file in files_voltage:\n",
    "    voltage_data = pd.concat([voltage_data, pd.read_csv(file)])"
   ]
  },
  {
   "cell_type": "code",
   "execution_count": null,
   "id": "c0b33d72",
   "metadata": {},
   "outputs": [],
   "source": [
    "filepath_voltage_measurements = f'/home/gregor/Masterarbeit/flight_data/2022-08-08_test_rig/voltage_data.csv'\n",
    "voltage_measurements = pd.read_csv(filepath_voltage_measurements)"
   ]
  },
  {
   "cell_type": "code",
   "execution_count": null,
   "id": "77f0086c",
   "metadata": {},
   "outputs": [],
   "source": [
    "voltage_measured = voltage_measurements.iloc[motor-1].values\n",
    "voltage_measured"
   ]
  },
  {
   "cell_type": "code",
   "execution_count": null,
   "id": "2bd37783",
   "metadata": {},
   "outputs": [],
   "source": [
    "#flight_data.rename(columns = {' omega1':'omega1'}, inplace = True)\n",
    "\n",
    "t_current = ((current_data['t'].values - min(current_data['t'].values)) / 10e5)\n",
    "t_voltage = ((voltage_data['t'].values - min(voltage_data['t'].values)) / 10e5)\n",
    "\n",
    "omega_voltage = voltage_data[f'omega{motor}'].values\n",
    "omega_current = current_data[f'omega{motor}'].values\n",
    "\n",
    "voltage = voltage_data[f'U1{motor}'].values\n",
    "current = current_data[f'I1{motor}'].values\n",
    "\n",
    "#control_voltage = voltage_data[f'ctrl_{motor}'].values\n",
    "#control_current = current_data[f'ctrl_{motor}'].values"
   ]
  },
  {
   "cell_type": "code",
   "execution_count": null,
   "id": "5ee221cf",
   "metadata": {},
   "outputs": [],
   "source": [
    "# get count of unique values\n",
    "unique_rpms_voltage = np.unique(omega_voltage[omega_voltage>=1000], return_counts=True) # all unique RPMs above 1000\n",
    "filtered_rpms_voltage = unique_rpms_voltage[0][unique_rpms_voltage[1] > 20] # Only RPM that occur more than 20 times\n",
    "filtered_voltage_indices = np.nonzero(np.isin(omega_voltage, filtered_rpms_voltage)==1)[0] # apply filter\n",
    "\n",
    "# get count of unique values\n",
    "unique_rpms_current = np.unique(omega_current[omega_current>=1000], return_counts=True) \n",
    "filtered_rpms_current = unique_rpms_current[0][unique_rpms_current[1] > 20]\n",
    "filtered_current_indices = np.nonzero(np.isin(omega_current, filtered_rpms_current)==1)[0]\n",
    "\n",
    "# get start and ends of sequence"
   ]
  },
  {
   "cell_type": "code",
   "execution_count": null,
   "id": "8b7467ea",
   "metadata": {},
   "outputs": [],
   "source": [
    "mask = np.where(np.diff(filtered_voltage_indices,prepend=0)>10) # search for the gaps between the sequences\n",
    "start_voltage = filtered_voltage_indices[mask]\n",
    "\n",
    "mask = np.where(np.abs(np.diff(np.flip(filtered_voltage_indices),prepend=0))>10)\n",
    "end_voltage = np.flip(np.flip(filtered_voltage_indices)[mask])\n",
    "\n",
    "mask = np.where(np.diff(filtered_current_indices,prepend=0)>10) # search for the gaps between the sequences\n",
    "start_current = filtered_current_indices[mask]\n",
    "\n",
    "mask = np.where(np.abs(np.diff(np.flip(filtered_current_indices),prepend=0))>10)\n",
    "end_current = np.flip(np.flip(filtered_current_indices)[mask])"
   ]
  },
  {
   "cell_type": "code",
   "execution_count": null,
   "id": "157cac65",
   "metadata": {},
   "outputs": [],
   "source": [
    "# get index arrays for every sequence\n",
    "volt_sequences = start_voltage.size\n",
    "curr_sequences = start_current.size\n",
    "seq_idx_current = []\n",
    "seq_idx_voltage = []\n",
    "\n",
    "for i in range(volt_sequences):\n",
    "    \n",
    "    intersection = np.intersect1d(np.arange(start_voltage[i],end_voltage[i]), filtered_voltage_indices)\n",
    "    \n",
    "    if not intersection.size == 0:\n",
    "        seq_idx_voltage.append(intersection[5:-5]) # remove first and last 5 values to get rid of outliers\n",
    "\n",
    "for i in range(curr_sequences):\n",
    "    \n",
    "    intersection = np.intersect1d(np.arange(start_current[i],end_current[i]), filtered_current_indices)\n",
    "    \n",
    "    if not intersection.size == 0:\n",
    "        seq_idx_current.append(intersection[5:-5]) # remove first and last 5 values to get rid of outliers"
   ]
  },
  {
   "cell_type": "code",
   "execution_count": null,
   "id": "dc66fcfe",
   "metadata": {
    "scrolled": false
   },
   "outputs": [],
   "source": [
    "# motor cmds\n",
    "\n",
    "fig0, ax0 = plt.subplots(2,2, figsize=(10,8))\n",
    "\n",
    "# Rotor pairs\n",
    "\n",
    "# raw data\n",
    "ax0[0][0].scatter(t_voltage, omega_voltage, color='lightgray', label='RPM raw')\n",
    "ax0[0][1].scatter(t_voltage, voltage, color='lightgray', label='esc-voltage raw')\n",
    "\n",
    "ax0[1][0].scatter(t_current[filtered_current_indices], omega_current[filtered_current_indices])\n",
    "\n",
    "#ax0[0][0].scatter(t_voltage[filtered_voltage_indices], omega_voltage[filtered_voltage_indices], label='RPM')\n",
    "\n",
    "\n",
    "ax0[1][1].scatter(t_current[filtered_current_indices], current[filtered_current_indices], label='current')\n",
    "\n",
    "# plot the sequences \n",
    "\n",
    "for i, seq in enumerate(seq_idx_voltage):\n",
    "    \n",
    "    \n",
    "    t = (max(t_voltage[seq]) + min(t_voltage[seq]))/2\n",
    "    mean_voltage = np.mean(voltage[seq])\n",
    "    \n",
    "    if(i==0):\n",
    "        ax0[0][0].scatter(t_voltage[seq], omega_voltage[seq], color='deepskyblue', label = 'RPM filtered')\n",
    "        ax0[0][1].scatter(t_voltage[seq], voltage[seq], color='deepskyblue', label='esc-voltage filtered')\n",
    "        ax0[0][1].scatter(t, mean_voltage, s=50, marker='x', color='b', label='esc-voltage mean')\n",
    "        ax0[0][1].scatter(t, voltage_measured[i], s=50, marker='x', color='r',label='multimeter-voltage')\n",
    "    else:\n",
    "        ax0[0][0].scatter(t_voltage[seq], omega_voltage[seq], color='deepskyblue')\n",
    "        ax0[0][1].scatter(t_voltage[seq], voltage[seq], color='deepskyblue')\n",
    "        ax0[0][1].scatter(t, mean_voltage, s=50, marker='x', color='b')\n",
    "        ax0[0][1].scatter(t, voltage_measured[i], s=50, marker='x', color='r')\n",
    "\n",
    "for i in range(2):\n",
    "    for j in range(2):\n",
    "        ax0[i][j].set_xlabel('Time [s]')\n",
    "        #ax0[i][j].set_xlim(0,130)\n",
    "        ax0[i][j].grid()\n",
    "        ax0[i][j].legend()\n",
    "\n",
    "ax0[0][0].set_ylabel('$RPM$')\n",
    "ax0[0][1].set_ylabel('Voltage')\n",
    "\n",
    "ax0[0][0].set_ylim(0,4500)\n",
    "ax0[1][0].set_ylim(0,4500)\n",
    "\n",
    "ax0[0][0].set_title(f'RPM over time')\n",
    "ax0[0][1].set_title(f'Voltage over time')\n",
    "ax0[1][0].set_title(f'RPM over time')\n",
    "ax0[1][1].set_title(f'Current over time')\n",
    "fig0.tight_layout()"
   ]
  },
  {
   "cell_type": "code",
   "execution_count": null,
   "id": "4841fb16",
   "metadata": {},
   "outputs": [],
   "source": []
  }
 ],
 "metadata": {
  "kernelspec": {
   "display_name": "Python 3 (ipykernel)",
   "language": "python",
   "name": "python3"
  },
  "language_info": {
   "codemirror_mode": {
    "name": "ipython",
    "version": 3
   },
   "file_extension": ".py",
   "mimetype": "text/x-python",
   "name": "python",
   "nbconvert_exporter": "python",
   "pygments_lexer": "ipython3",
   "version": "3.10.4"
  }
 },
 "nbformat": 4,
 "nbformat_minor": 5
}
