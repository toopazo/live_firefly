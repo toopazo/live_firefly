{
 "cells": [
  {
   "cell_type": "markdown",
   "id": "63055486",
   "metadata": {},
   "source": [
    "# Compare two hover flight"
   ]
  },
  {
   "cell_type": "markdown",
   "id": "7152c516",
   "metadata": {},
   "source": [
    "## Import statements and notebook settings"
   ]
  },
  {
   "cell_type": "code",
   "execution_count": null,
   "id": "47b8fa01",
   "metadata": {},
   "outputs": [],
   "source": [
    "%matplotlib notebook\n",
    "\n",
    "import matplotlib.pyplot as plt\n",
    "import matplotlib.cm as cm\n",
    "import numpy as np\n",
    "import pandas as pd\n",
    "\n",
    "import seaborn as sns\n",
    "\n",
    "from tools.helper_functions import moving_average, normalize, rolling_normal, perform_polynomial_regression\n",
    "from tools.data_loader import load_flight_data, select_sequence, clean_data, apply_motor_calibration\n",
    "from tools.data_loader import correct_motor_current\n",
    "\n",
    "import tools.data_loader as dl\n",
    "\n",
    "from sklearn.linear_model import LinearRegression\n",
    "from sklearn.preprocessing import PolynomialFeatures\n",
    "\n",
    "from scipy import stats\n",
    "\n",
    "import glob\n",
    "import os"
   ]
  },
  {
   "cell_type": "code",
   "execution_count": null,
   "id": "d3ad4ff0",
   "metadata": {},
   "outputs": [],
   "source": [
    "%load_ext autoreload\n",
    "%autoreload 2"
   ]
  },
  {
   "cell_type": "code",
   "execution_count": null,
   "id": "c6d93544",
   "metadata": {},
   "outputs": [],
   "source": [
    "# declare ALL list objects necessary\n",
    "\n",
    "vInduced = 14.345219306215128 # induced velocity for firefly vehicle\n",
    "markersize= 15 # global markersize setting for scatter plots\n",
    "\n",
    "# set colors\n",
    "\n",
    "lowCol = '#FF7518' # pumpkin orange\n",
    "upCol = '#18A2FF' # complementary color\n",
    "\n",
    "upMeanCol = 'blue'\n",
    "lowMeanCol = 'black'\n",
    "\n",
    "armCol = upCol\n",
    "armMeanCol = 'red'"
   ]
  },
  {
   "cell_type": "markdown",
   "id": "be669857",
   "metadata": {},
   "source": [
    "## Load flight data"
   ]
  },
  {
   "cell_type": "code",
   "execution_count": null,
   "id": "311fe4b8",
   "metadata": {},
   "outputs": [],
   "source": [
    "# select test flight\n",
    "\n",
    "# first testflight\n",
    "#flight = f'../flight_data/2022-08-01_ag_field/flight_6_first_hover_flight/'\n",
    "#hoverStart = 35\n",
    "#hoverEnd = 15\n",
    "\n",
    "# second testflight\n",
    "pathFlight1 = f'../flight_data/2022-08-01_ag_field/flight_8_second_hover_flight/'\n",
    "hoverStart1 = 30\n",
    "hoverEnd1 = 190\n",
    "\n",
    "## third testflight\n",
    "pathFlight2 = f'../flight_data/2022-08-29_ag_field/flight_2_delta0_sweep/'\n",
    "hoverStart2 = 150\n",
    "hoverEnd2 = 530"
   ]
  },
  {
   "cell_type": "code",
   "execution_count": null,
   "id": "a320090d",
   "metadata": {},
   "outputs": [],
   "source": [
    "fd1 = load_flight_data(pathFlight1)\n",
    "fd2 = load_flight_data(pathFlight2)\n",
    "\n",
    "fd1 = dl.convert_time(fd1)\n",
    "fd2 = dl.convert_time(fd2)"
   ]
  },
  {
   "cell_type": "markdown",
   "id": "76ed1094",
   "metadata": {},
   "source": [
    "## Preprocessing\n",
    "\n",
    "### Rename columns and calculate power values for motors, arms and vehicle"
   ]
  },
  {
   "cell_type": "code",
   "execution_count": null,
   "id": "748b6b69",
   "metadata": {},
   "outputs": [],
   "source": [
    "fd1 = clean_data(fd1)\n",
    "fd2 = clean_data(fd2)"
   ]
  },
  {
   "cell_type": "markdown",
   "id": "91ef17a8",
   "metadata": {},
   "source": [
    "### Apply calibration for ESC current and voltage"
   ]
  },
  {
   "cell_type": "code",
   "execution_count": null,
   "id": "006011c1",
   "metadata": {},
   "outputs": [],
   "source": [
    "fd1 = apply_motor_calibration(fd1)\n",
    "fd2 = apply_motor_calibration(fd2)"
   ]
  },
  {
   "cell_type": "markdown",
   "id": "7544cc90",
   "metadata": {},
   "source": [
    "### Correct current signal for motor 3"
   ]
  },
  {
   "cell_type": "markdown",
   "id": "9046729a",
   "metadata": {},
   "source": [
    "For unknown reasons the current sensor of motor 3 is not capable of detecting values below 2.66 A. This can lead to a bias in the power signal for motor 3. For this reason, we perform a linear regression for current and RPM signal, as the RPM signal is considered more reliable. All values below 2.66 A are replaced with the predictions for the RPM value  "
   ]
  },
  {
   "cell_type": "code",
   "execution_count": null,
   "id": "76c757f4",
   "metadata": {},
   "outputs": [],
   "source": [
    "fd1_old = fd1.copy(deep=True)\n",
    "fd2_old = fd2.copy(deep=True)\n",
    "\n",
    "fd1, minI3_1 = correct_motor_current(fd1)\n",
    "fd2, minI3_2 = correct_motor_current(fd2)"
   ]
  },
  {
   "cell_type": "code",
   "execution_count": null,
   "id": "b71d58e9",
   "metadata": {
    "scrolled": false
   },
   "outputs": [],
   "source": [
    "figCurrent, axCurrent = plt.subplots(1,2, figsize=(10,5))\n",
    "figCurrent.suptitle(\"Correction of current signal motor 3\", fontsize=14)\n",
    "\n",
    "# plot current over time for motor 3\n",
    "axCurrent[0].plot(fd1_old['t'], fd1_old['I3'], color=upCol, label='current3 (measured)', zorder=1)\n",
    "axCurrent[1].plot(fd2_old['t'], fd2_old['I3'], color=upCol, label='current3 (measured)', zorder=1)\n",
    "\n",
    "# mark points that will replaced with red color\n",
    "axCurrent[0].scatter(fd1_old['t'][minI3_1], fd1_old['I3'][minI3_1], color='r', s=5, label='faulty points')\n",
    "axCurrent[1].scatter(fd2_old['t'][minI3_2], fd2_old['I3'][minI3_2], color='r', s=5, label='faulty points')\n",
    "\n",
    "# mark points that were replaced with red color\n",
    "axCurrent[0].scatter(fd1['t'][minI3_1], fd1['I3'][minI3_1], color='g', s=5, label='corrected points')\n",
    "axCurrent[1].scatter(fd2['t'][minI3_2], fd2['I3'][minI3_2], color='g', s=5, label='corrected points')\n",
    "\n",
    "axCurrent[0].set_title(\"First flight\")\n",
    "axCurrent[1].set_title(\"Second flight\")\n",
    "\n",
    "for i in range(2):\n",
    "    axCurrent[i].set_xlabel('Time [s]')\n",
    "    axCurrent[i].set_ylabel('Current [A]')\n",
    "    axCurrent[i].set_ylim(0,20)\n",
    "    axCurrent[i].grid()\n",
    "    axCurrent[i].legend()\n"
   ]
  },
  {
   "cell_type": "markdown",
   "id": "95155d18",
   "metadata": {},
   "source": [
    "### Calculate power and controls"
   ]
  },
  {
   "cell_type": "code",
   "execution_count": null,
   "id": "7beb2825",
   "metadata": {},
   "outputs": [],
   "source": [
    "fd1 = dl.calculate_power_and_rpm(fd1)\n",
    "fd2 = dl.calculate_power_and_rpm(fd2)"
   ]
  },
  {
   "cell_type": "markdown",
   "id": "79b33ec3",
   "metadata": {},
   "source": [
    "### Calculate motor commands"
   ]
  },
  {
   "cell_type": "code",
   "execution_count": null,
   "id": "27036bc8",
   "metadata": {},
   "outputs": [],
   "source": [
    "fd1 = dl.calculate_motor_cmds(fd1)\n",
    "fd2 = dl.calculate_motor_cmds(fd2)"
   ]
  },
  {
   "cell_type": "markdown",
   "id": "8af61151",
   "metadata": {},
   "source": [
    "### Filter out hover sequence DataFrame"
   ]
  },
  {
   "cell_type": "code",
   "execution_count": null,
   "id": "e810ddbe",
   "metadata": {},
   "outputs": [],
   "source": [
    "# Reset current correction\n",
    "hoverIndex1, fdHover1 = select_sequence(fd1, hoverStart1, hoverEnd1)\n",
    "hoverIndex2, fdHover2 = select_sequence(fd2, hoverStart2, hoverEnd2)"
   ]
  },
  {
   "cell_type": "markdown",
   "id": "8e10a382",
   "metadata": {},
   "source": [
    "### Remove values after $\\Delta_0$-step"
   ]
  },
  {
   "cell_type": "code",
   "execution_count": null,
   "id": "dbe085ab",
   "metadata": {},
   "outputs": [],
   "source": [
    "fdUnfiltered1 = fdHover1.copy(deep=True)\n",
    "fdUnfiltered2 = fdHover2.copy(deep=True)"
   ]
  },
  {
   "cell_type": "code",
   "execution_count": null,
   "id": "6ffad51f",
   "metadata": {},
   "outputs": [],
   "source": [
    "steps1 = fdHover1[np.abs(fdHover1['delta0'].diff()) > 0]\n",
    "steps2 = fdHover2[np.abs(fdHover2['delta0'].diff()) > 0]\n",
    "\n",
    "for i in steps1.index:\n",
    "    toDrop = np.arange(i,i+20)\n",
    "    fdHover1 = fdHover1.drop(index=toDrop)\n",
    "\n",
    "for i in steps2.index:\n",
    "    toDrop = np.arange(i,i+20)\n",
    "    fdHover2 = fdHover2.drop(index=toDrop)"
   ]
  },
  {
   "cell_type": "markdown",
   "id": "e39c5baf",
   "metadata": {},
   "source": [
    "### Create lists that contain data for both flights"
   ]
  },
  {
   "cell_type": "code",
   "execution_count": null,
   "id": "24a17eb7",
   "metadata": {},
   "outputs": [],
   "source": [
    "flight = [fd1, fd2]\n",
    "fdHover = [fdHover1, fdHover2]\n",
    "start = [hoverStart1, hoverStart2]\n",
    "end = [hoverEnd1, hoverEnd2]\n",
    "hoverIndex = [hoverIndex1, hoverIndex2]"
   ]
  },
  {
   "cell_type": "code",
   "execution_count": null,
   "id": "3f553e0f",
   "metadata": {
    "scrolled": false
   },
   "outputs": [],
   "source": [
    "fig0, ax0 = plt.subplots(2,2,figsize=(10,8))\n",
    "fig0.suptitle('Power signal after step filtering', fontsize=14)\n",
    "\n",
    "for i in range(2):\n",
    "    \n",
    "    ax0[i][0].plot(flight[i]['t'], flight[i]['pVehicle'], label='raw signal')\n",
    "    ax0[i][0].plot(fdHover[i]['t'], fdHover[i]['pVehicle'], label='filtered signal')\n",
    "\n",
    "    ax0[i][1].plot(flight[i]['t'], flight[i]['delta0'], label='delta0')\n",
    "    ax0[i][1].plot(fdHover[i]['t'], fdHover[i]['delta0'], label='delta0 hover')\n",
    "\n",
    "    # add red boundary lines to highlight separation between take-off/landing and hovering\n",
    "    ax0[i][1].plot([start[i], start[i]],[-1, 1], 'r--')\n",
    "    ax0[i][1].plot([end[i], end[i]],[-1, 1], 'r--')\n",
    "    \n",
    "    # add red boundary lines to highlight separation between take-off/landing and hovering\n",
    "    ax0[i][0].plot([start[i], start[i]],[0, 2000], 'r--')\n",
    "    ax0[i][0].plot([end[i], end[i]],[0, 2000], 'r--')\n",
    "    \n",
    "    ax0[0][0].set_title('Flight 1: Power')\n",
    "    ax0[0][1].set_title('Flight 1: $\\Delta_0$')\n",
    "    ax0[1][0].set_title('Flight 2: Power')\n",
    "    ax0[1][1].set_title('Flight 2: $\\Delta_0$')\n",
    "    \n",
    "    for j in range(2):\n",
    "        \n",
    "        ax0[i][j].set_xlim(0, max(flight[1]['t']))\n",
    "        ax0[i][j].set_xlim(0, max(flight[1]['t']))\n",
    "        ax0[i][j].grid()\n",
    "        ax0[i][j].legend()\n",
    "\n",
    "fig0.tight_layout()"
   ]
  },
  {
   "cell_type": "markdown",
   "id": "0e1c85b9",
   "metadata": {},
   "source": [
    "### Calculate mean and median values for each $\\Delta_0$"
   ]
  },
  {
   "cell_type": "code",
   "execution_count": null,
   "id": "c29e923b",
   "metadata": {},
   "outputs": [],
   "source": [
    "delta0Mean = [pd.pivot_table(fdHover1, index='delta0', aggfunc=np.mean)]\n",
    "delta0Mean.append(pd.pivot_table(fdHover2, index='delta0', aggfunc=np.mean))\n",
    "\n",
    "delta0Median = [pd.pivot_table(fdHover1, index='delta0', aggfunc=np.median)]\n",
    "delta0Median.append(pd.pivot_table(fdHover2, index='delta0', aggfunc=np.median))"
   ]
  },
  {
   "cell_type": "markdown",
   "id": "65f34d9d",
   "metadata": {},
   "source": [
    "## Start of analysis"
   ]
  },
  {
   "cell_type": "markdown",
   "id": "ec410976",
   "metadata": {},
   "source": [
    "### Calculate v_norm"
   ]
  },
  {
   "cell_type": "code",
   "execution_count": null,
   "id": "00470b14",
   "metadata": {},
   "outputs": [],
   "source": [
    "# vnorm in percentage of v_i\n",
    "\n",
    "vNorm1 = np.sqrt(fd1['u']**2 + fd1['v']**2 + fd1['w']**2)\n",
    "vNorm2 = np.sqrt(fd2['u']**2 + fd2['v']**2 + fd2['w']**2)\n",
    "\n",
    "vNormPercentage1 = (vNorm1/vInduced)*100\n",
    "vNormPercentage2 = (vNorm2/vInduced)*100\n",
    "\n",
    "vNorm = [vNorm1, vNorm2]\n",
    "vNormPercentage = [vNormPercentage1, vNormPercentage2]\n",
    "\n",
    "fdUnfiltered = [fdUnfiltered1, fdUnfiltered2]"
   ]
  },
  {
   "cell_type": "code",
   "execution_count": null,
   "id": "8bafab9f",
   "metadata": {
    "scrolled": false
   },
   "outputs": [],
   "source": [
    "# plot histogram of vnorm with corresponding limit\n",
    "\n",
    "fi1, a1 = plt.subplots(2, 2, figsize=(10,8))\n",
    "fi1.suptitle('Velocity profile', fontsize=14)\n",
    "\n",
    "for i in range(2):\n",
    "    \n",
    "    # plot moving average of vertical velocity w and highlight the hovering sequence\n",
    "    a1[0][i].plot(flight[i]['t'], flight[i]['w'], label='w full flight')\n",
    "    a1[0][i].plot(flight[i]['t'].iloc[hoverIndex[i]], flight[i]['w'].iloc[hoverIndex[i]], label='w hover sequence')\n",
    "\n",
    "    # plot v_norm and hightlight hover sequence\n",
    "    a1[1][i].plot(flight[i]['t'], vNormPercentage[i], label='vNorm')\n",
    "    a1[1][i].plot(flight[i]['t'].iloc[hoverIndex[i]], vNormPercentage[i].iloc[hoverIndex[i]], label='vNorm hover')\n",
    "\n",
    "    # add red boundary lines to highlight separation between take-off/landing and hovering\n",
    "    a1[1][i].plot([start[i], start[i]],[0, np.max(vNormPercentage[i])], 'r--')\n",
    "    a1[1][i].plot([end[i], end[i]],[0, np.max(vNormPercentage[i])], 'r--')\n",
    "\n",
    "    # add grid, legend, labels, etc.\n",
    "    a1[0][i].grid()\n",
    "    a1[0][i].legend()\n",
    "    a1[0][i].set_title('Vertical velocity')\n",
    "    a1[0][i].set_xlim(min(flight[i]['t']), max(flight[i]['t']))\n",
    "    \n",
    "    a1[0][i].set_ylim(-1.5, 1.5)\n",
    "    a1[1][i].set_ylim(0, 13)\n",
    "\n",
    "    a1[1][i].set_title('v norm')\n",
    "    a1[1][i].set_xlabel('time [s]')\n",
    "    a1[1][i].set_ylabel('v_norm [% of $v_i$]')\n",
    "    a1[1][i].grid()\n",
    "    a1[1][i].legend()\n",
    "    a1[1][i].set_xlim(min(flight[i]['t']),max(flight[i]['t']))"
   ]
  },
  {
   "cell_type": "markdown",
   "id": "08e5fd27",
   "metadata": {},
   "source": [
    "### Calculate average vNorm"
   ]
  },
  {
   "cell_type": "code",
   "execution_count": null,
   "id": "3434cf19",
   "metadata": {},
   "outputs": [],
   "source": [
    "vNormAvg1 = np.around(vNorm1.mean(), 3)\n",
    "vNormAvg2 = np.around(vNorm2.mean(), 3)\n",
    "\n",
    "vNormPrctAvg1 = np.around(vNormPercentage1.mean(), 3)\n",
    "vNormPrctAvg2 = np.around(vNormPercentage2.mean(), 3)\n",
    "\n",
    "print(f\"The average vNorm for flight 1 is {vNormAvg1} m/s ({vNormPrctAvg1} % of induced velocity)\")\n",
    "print(f\"The average vNorm for flight 2 is {vNormAvg2} m/s ({vNormPrctAvg2} % of induced velocity)\")"
   ]
  },
  {
   "cell_type": "markdown",
   "id": "72dc48ad",
   "metadata": {},
   "source": [
    "## Compare power per arm"
   ]
  },
  {
   "cell_type": "code",
   "execution_count": null,
   "id": "bf56213b",
   "metadata": {},
   "outputs": [],
   "source": [
    "# estimate kernel density\n",
    "\n",
    "kernelDensity = []\n",
    "\n",
    "for j in range(2):\n",
    "    density = []\n",
    "    for i in range(1,5):\n",
    "        values = np.vstack([fdHover[j][f\"dRpmArm{i}\"], fdHover[j][f\"pArm{i}\"]])\n",
    "        density.append(stats.gaussian_kde(values)(values))\n",
    "    kernelDensity.append(density)"
   ]
  },
  {
   "cell_type": "code",
   "execution_count": null,
   "id": "adc8d374",
   "metadata": {},
   "outputs": [],
   "source": [
    "# create regression curves\n",
    "\n",
    "dRpmRange = []\n",
    "dRpmRegCurve = []\n",
    "dRpmMin = []\n",
    "\n",
    "for i in range(2):\n",
    "    \n",
    "    flightRange = []\n",
    "    flightCurve = []\n",
    "    flightMin = []\n",
    "    \n",
    "    for j in range(4):\n",
    "        regRange, regCurve = perform_polynomial_regression(fdHover[i], f'dRpmArm{j+1}', f'pArm{j+1}')\n",
    "        flightRange.append(regRange)\n",
    "        flightCurve.append(regCurve)\n",
    "        flightMin.append(regRange[np.argmin(regCurve)])\n",
    "    \n",
    "    dRpmRange.append(flightRange)\n",
    "    dRpmRegCurve.append(flightCurve)\n",
    "    dRpmMin.append(flightMin)"
   ]
  },
  {
   "cell_type": "code",
   "execution_count": null,
   "id": "02f0b931",
   "metadata": {
    "scrolled": false
   },
   "outputs": [],
   "source": [
    "# Power per arm over deltaRPM\n",
    "\n",
    "fig2, ax2 = plt.subplots(4, 2, figsize=(10,16))\n",
    "fig2.suptitle('Power vs. actual delta RPM', fontsize=14)\n",
    "\n",
    "for i in range(2):\n",
    "    # Plot unfiltered data to show outliers\n",
    "    ax2[0][i].scatter(fdUnfiltered[i]['dRpmArm1'], fdUnfiltered[i]['pArm1'], color='gray', s=markersize, label='outliers')\n",
    "    ax2[1][i].scatter(fdUnfiltered[i]['dRpmArm2'], fdUnfiltered[i]['pArm2'], color='gray', s=markersize, label='outliers')\n",
    "    ax2[2][i].scatter(fdUnfiltered[i]['dRpmArm3'], fdUnfiltered[i]['pArm3'], color='gray', s=markersize, label='outliers')\n",
    "    ax2[3][i].scatter(fdUnfiltered[i]['dRpmArm4'], fdUnfiltered[i]['pArm4'], color='gray', s=markersize, label='outliers')\n",
    "\n",
    "    ax2[0][i].scatter(fdHover[i]['dRpmArm1'], fdHover[i]['pArm1'], c=kernelDensity[i][0], cmap='cool', s=markersize, label='arm1')\n",
    "    ax2[1][i].scatter(fdHover[i]['dRpmArm2'], fdHover[i]['pArm2'], c=kernelDensity[i][1], cmap='cool', s=markersize, label='arm2')\n",
    "    ax2[2][i].scatter(fdHover[i]['dRpmArm3'], fdHover[i]['pArm3'], c=kernelDensity[i][2], cmap='cool', s=markersize, label='arm3')\n",
    "    ax2[3][i].scatter(fdHover[i]['dRpmArm4'], fdHover[i]['pArm4'], c=kernelDensity[i][3], cmap='cool', s=markersize, label='arm4')\n",
    "\n",
    "    # plot regression curves\n",
    "    ax2[0][i].plot(dRpmRange[i][0], dRpmRegCurve[i][0], color='k', label='arm1 regression')\n",
    "    ax2[1][i].plot(dRpmRange[i][1], dRpmRegCurve[i][1], color='k', label='arm2 regression')\n",
    "    ax2[2][i].plot(dRpmRange[i][2], dRpmRegCurve[i][2], color='k', label='arm3 regression')\n",
    "    ax2[3][i].plot(dRpmRange[i][3], dRpmRegCurve[i][3], color='k', label='arm4 regression')\n",
    "    \n",
    "    # plot minimal dRPM\n",
    "    ax2[0][i].plot([dRpmMin[i][0], dRpmMin[i][0]],[0, dRpmRegCurve[i][0].min()], 'r--', alpha=0.75, label='minimum')\n",
    "    ax2[1][i].plot([dRpmMin[i][1], dRpmMin[i][1]],[0, dRpmRegCurve[i][1].min()], 'r--', alpha=0.75, label='minimum')\n",
    "    ax2[2][i].plot([dRpmMin[i][2], dRpmMin[i][2]],[0, dRpmRegCurve[i][2].min()], 'r--', alpha=0.75, label='minimum')\n",
    "    ax2[3][i].plot([dRpmMin[i][3], dRpmMin[i][3]],[0, dRpmRegCurve[i][3].min()], 'r--', alpha=0.75, label='minimum')\n",
    "    \n",
    "    ax2[0][i].scatter(dRpmMin[i][0], dRpmRegCurve[i][0].min(), marker='x', color='k', s=40)\n",
    "    ax2[1][i].scatter(dRpmMin[i][1], dRpmRegCurve[i][1].min(), marker='x', color='k', s=40)\n",
    "    ax2[2][i].scatter(dRpmMin[i][2], dRpmRegCurve[i][2].min(), marker='x', color='k', s=40)\n",
    "    ax2[3][i].scatter(dRpmMin[i][3], dRpmRegCurve[i][3].min(), marker='x', color='k', s=40)\n",
    "    \n",
    "    \n",
    "for i in range(4):\n",
    "    for j in range(2):\n",
    "        ax2[i][j].set_xlabel('Delta-RPM [-]')\n",
    "        ax2[i][j].set_ylabel('Power [W]')\n",
    "        ax2[i][j].set_title(f'Flight {j+1} - Arm {i+1} Power vs. Delta-RPM')\n",
    "        ax2[i][j].set_xlim(-2000, 1000)\n",
    "        ax2[i][j].set_ylim(0, 800)\n",
    "        ax2[i][j].grid()\n",
    "        ax2[i][j].legend()\n",
    "\n",
    "fig2.tight_layout()"
   ]
  },
  {
   "cell_type": "markdown",
   "id": "13ed25de",
   "metadata": {},
   "source": [
    "## Compare total vehicle power"
   ]
  },
  {
   "cell_type": "code",
   "execution_count": null,
   "id": "feb730ce",
   "metadata": {},
   "outputs": [],
   "source": [
    "# regression for total vehicle power\n",
    "\n",
    "dRpmVehicleRange = []\n",
    "dRpmVehicleCurve = []\n",
    "dRpmVehicleMin = []\n",
    "\n",
    "kernelDensity = []\n",
    "for i in range(2):\n",
    "    regRange, regCurve = perform_polynomial_regression(fdHover[i], 'dRpmVehicle', f'pVehicle')\n",
    "    \n",
    "    dRpmVehicleRange.append(regRange)\n",
    "    dRpmVehicleCurve.append(regCurve)\n",
    "    dRpmVehicleMin.append(regRange[np.argmin(regCurve)])\n",
    "    \n",
    "    # kernel density estimation\n",
    "    values = np.vstack([fdHover[i][\"dRpmVehicle\"], fdHover[i][\"pVehicle\"]])\n",
    "    \n",
    "    kernelDensity.append(stats.gaussian_kde(values)(values))\n"
   ]
  },
  {
   "cell_type": "code",
   "execution_count": null,
   "id": "222177ea",
   "metadata": {},
   "outputs": [],
   "source": [
    "fig14, ax14 = plt.subplots(2,2,figsize=(10,8))\n",
    "fig14.suptitle('Total vehicle power over $\\Delta_0$ and avg. Delta-RPM', fontsize=14)\n",
    "\n",
    "for i in range(2):\n",
    "    \n",
    "    # vehicle power over delta0\n",
    "    ax14[i][0].scatter(fdUnfiltered[i]['delta0'], fdUnfiltered[i]['pVehicle'], color='gray', s=markersize, label='outliers')\n",
    "    ax14[i][0].scatter(fdHover[i]['delta0'], fdHover[i]['pVehicle'], color=armCol, s=markersize, label='total vehicle power')\n",
    "\n",
    "    ax14[i][0].scatter(delta0Mean[i].index, delta0Mean[i]['pVehicle'], marker='x', s=50, color=armMeanCol, label='mean vehicle power')\n",
    "    ax14[i][0].scatter(delta0Median[i].index, delta0Median[i]['pVehicle'], marker='x', s=50, color='b', label='median vehicle power')\n",
    "\n",
    "    # vehicle power over deltaRPM\n",
    "    ax14[i][1].scatter(fdUnfiltered[i]['dRpmVehicle'], fdUnfiltered[i]['pVehicle'], color='gray', s=markersize, label='outliers')\n",
    "    ax14[i][1].scatter(fdHover[i]['dRpmVehicle'], fdHover[i]['pVehicle'], c=kernelDensity[i], cmap='cool', s=markersize, label='total vehicle power')\n",
    "\n",
    "    # plot regression curve\n",
    "    ax14[i][1].plot(dRpmVehicleRange[i], dRpmVehicleCurve[i], color='k', label='power regression')\n",
    "    ax14[i][1].plot([dRpmVehicleMin[i], dRpmVehicleMin[i]],[0, dRpmVehicleCurve[i].min()], 'r--', alpha=0.75, label='power minimum')\n",
    "\n",
    "    ax14[i][0].set_xlabel('$\\Delta_{0}$-cmd')\n",
    "    ax14[i][0].set_ylabel('Power [W]')\n",
    "    ax14[i][0].set_xlim(-1, 0.5)\n",
    "    ax14[i][0].set_ylim(0, 2100)\n",
    "    ax14[i][0].grid()\n",
    "    ax14[i][0].legend(loc='lower left')\n",
    "    ax14[i][0].set_title('Total vehicle power vs. $\\Delta_0$')    \n",
    "\n",
    "    ax14[i][1].set_title('Total vehicle power vs. Delta-RPM') \n",
    "    ax14[i][1].set_xlabel('Avg. Delta-RPM')\n",
    "    ax14[i][1].set_ylabel('Power [W]')\n",
    "    \n",
    "    ax14[i][0].set_xlim(-1, 0.5)\n",
    "    ax14[i][1].set_xlim(-1800, 1000)\n",
    "    ax14[i][1].set_ylim(0, 2000)\n",
    "    ax14[i][1].grid()\n",
    "    ax14[i][1].legend()\n",
    "   \n",
    "\n",
    "fig14.tight_layout()"
   ]
  },
  {
   "cell_type": "code",
   "execution_count": null,
   "id": "eed0da60",
   "metadata": {},
   "outputs": [],
   "source": []
  }
 ],
 "metadata": {
  "kernelspec": {
   "display_name": "Python 3 (ipykernel)",
   "language": "python",
   "name": "python3"
  },
  "language_info": {
   "codemirror_mode": {
    "name": "ipython",
    "version": 3
   },
   "file_extension": ".py",
   "mimetype": "text/x-python",
   "name": "python",
   "nbconvert_exporter": "python",
   "pygments_lexer": "ipython3",
   "version": "3.10.4"
  }
 },
 "nbformat": 4,
 "nbformat_minor": 5
}
