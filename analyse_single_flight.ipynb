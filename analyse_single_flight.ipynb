{
 "cells": [
  {
   "cell_type": "markdown",
   "id": "e4126c6c",
   "metadata": {},
   "source": [
    "# Analysis of hover sequence"
   ]
  },
  {
   "cell_type": "markdown",
   "id": "7152c516",
   "metadata": {},
   "source": [
    "## Import statements and notebook settings"
   ]
  },
  {
   "cell_type": "code",
   "execution_count": null,
   "id": "47b8fa01",
   "metadata": {},
   "outputs": [],
   "source": [
    "%matplotlib notebook\n",
    "\n",
    "import matplotlib.pyplot as plt\n",
    "import matplotlib.cm as cm\n",
    "import numpy as np\n",
    "import pandas as pd\n",
    "\n",
    "import seaborn as sns\n",
    "\n",
    "from tools.helper_functions import moving_average, normalize, rolling_normal\n",
    "from tools.data_loader import load_flight_data, select_sequence, clean_data, apply_motor_calibration\n",
    "\n",
    "import tools.data_loader as dl\n",
    "\n",
    "from sklearn.linear_model import LinearRegression\n",
    "from sklearn.preprocessing import PolynomialFeatures\n",
    "\n",
    "import glob\n",
    "import os"
   ]
  },
  {
   "cell_type": "code",
   "execution_count": null,
   "id": "d3ad4ff0",
   "metadata": {},
   "outputs": [],
   "source": [
    "%load_ext autoreload\n",
    "%autoreload 2"
   ]
  },
  {
   "cell_type": "code",
   "execution_count": null,
   "id": "c6d93544",
   "metadata": {},
   "outputs": [],
   "source": [
    "# declare ALL list objects necessary\n",
    "\n",
    "v_induced = 14.345219306215128 # induced velocity for firefly vehicle\n",
    "markersize= 15 # global markersize setting for scatter plots\n",
    "\n",
    "# set colors\n",
    "\n",
    "lowCol = '#FF7518' # pumpkin orange\n",
    "upCol = '#18A2FF' # complementary color\n",
    "\n",
    "upMeanCol = 'blue'\n",
    "lowMeanCol = 'black'\n",
    "\n",
    "armCol = upCol\n",
    "armMeanCol = 'red'"
   ]
  },
  {
   "cell_type": "markdown",
   "id": "be669857",
   "metadata": {},
   "source": [
    "## Load flight data"
   ]
  },
  {
   "cell_type": "code",
   "execution_count": null,
   "id": "311fe4b8",
   "metadata": {},
   "outputs": [],
   "source": [
    "# select test flight\n",
    "\n",
    "# first testflight\n",
    "#flight = f'../flight_data/2022-08-01_ag_field/flight_6_first_hover_flight/'\n",
    "#hover_start = 35\n",
    "#hover_end = 15\n",
    "\n",
    "# second testflight\n",
    "flight = f'../flight_data/2022-08-01_ag_field/flight_8_second_hover_flight/'\n",
    "hoverStart = 30\n",
    "hoverEnd = 30\n",
    "\n",
    "# third testflight\n",
    "#flight = f'../flight_data/2022-08-29_ag_field/flight_2_delta0_sweep/'\n",
    "#hoverStart = 30\n",
    "#hoverEnd = 30"
   ]
  },
  {
   "cell_type": "code",
   "execution_count": null,
   "id": "a320090d",
   "metadata": {},
   "outputs": [],
   "source": [
    "fd = load_flight_data(flight)\n",
    "fd = dl.convert_time(fd)"
   ]
  },
  {
   "cell_type": "markdown",
   "id": "76ed1094",
   "metadata": {},
   "source": [
    "## Preprocessing\n",
    "\n",
    "### Rename columns and calculate power values for motors, arms and vehicle"
   ]
  },
  {
   "cell_type": "code",
   "execution_count": null,
   "id": "748b6b69",
   "metadata": {},
   "outputs": [],
   "source": [
    "fd = clean_data(fd)"
   ]
  },
  {
   "cell_type": "markdown",
   "id": "91ef17a8",
   "metadata": {},
   "source": [
    "### Apply calibration for ESC current and voltage"
   ]
  },
  {
   "cell_type": "code",
   "execution_count": null,
   "id": "006011c1",
   "metadata": {},
   "outputs": [],
   "source": [
    "fd = apply_motor_calibration(fd)"
   ]
  },
  {
   "cell_type": "markdown",
   "id": "7544cc90",
   "metadata": {},
   "source": [
    "### Correct current signal for motor 3"
   ]
  },
  {
   "cell_type": "markdown",
   "id": "9046729a",
   "metadata": {},
   "source": [
    "For unknown reasons the current sensor of motor 3 is not capable of detecting values below 2.66 A. This can lead to a bias in the power signal for motor 3. For this reason, we perform a linear regression for current and RPM signal, as the RPM signal is considered more reliable. All values below 2.66 A are replaced with the predictions for the RPM value  "
   ]
  },
  {
   "cell_type": "code",
   "execution_count": null,
   "id": "d9734249",
   "metadata": {},
   "outputs": [],
   "source": [
    "# Perform regression RPM vs. current\n",
    "\n",
    "rpm_range = np.linspace(0, 3000, 100).reshape(-1,1)\n",
    "currentRegMotorValues = []\n",
    "currentRegCurve = []\n",
    "fd_current = []\n",
    "\n",
    "\n",
    "for i in range(1,9):\n",
    "    \n",
    "    # get all points where I3 has its minimum value and RPM is greater than 0\n",
    "    filtered = fd[fd[f'I{i}']> fd[f'I{i}'].min()]\n",
    "    filtered = filtered[filtered[f'rpm{i}']> 0]\n",
    "    \n",
    "    rpm = filtered[[f'rpm{i}']]\n",
    "    current = filtered[[f'I{i}']]\n",
    "    \n",
    "    rpmAsPolynomial = PolynomialFeatures(degree=3, include_bias=False).fit_transform(rpm)\n",
    "    \n",
    "    currentRegression = LinearRegression(fit_intercept=False, positive=True).fit(rpmAsPolynomial, current)\n",
    "\n",
    "    rpmRangePolynomial = PolynomialFeatures(degree=3, include_bias=False).fit_transform(rpm_range)\n",
    "    \n",
    "    currentPredictions = currentRegression.predict(rpmRangePolynomial)\n",
    "    \n",
    "    currentRegMotorValues.append(currentPredictions)\n",
    "    fd_current.append(filtered)\n",
    "    currentRegCurve.append(currentRegression)"
   ]
  },
  {
   "cell_type": "code",
   "execution_count": null,
   "id": "25cc45bb",
   "metadata": {},
   "outputs": [],
   "source": [
    "# correct values for current by using regression model\n",
    "\n",
    "# save value of flight data DataFrame\n",
    "#fd_corrected = fd.copy()\n",
    "fd_old = fd.copy(deep=True)\n",
    "\n",
    "# get indices where I3 is minimum\n",
    "minI3 = fd['I3']==fd[f'I3'].min()\n",
    "rpm3Data = fd['rpm3'][minI3].values.reshape(-1,1)\n",
    "\n",
    "# transform polynomial features\n",
    "rpm3Features = PolynomialFeatures(degree=3, include_bias=False).fit_transform(rpm3Data)\n",
    "\n",
    "# perform regression\n",
    "rpm3RegressionResult = currentRegCurve[2].predict(rpm3Features).reshape(-1)\n",
    "\n",
    "# apply correction to current signal\n",
    "fd.loc[minI3,'I3'] = rpm3RegressionResult"
   ]
  },
  {
   "cell_type": "code",
   "execution_count": null,
   "id": "b71d58e9",
   "metadata": {
    "scrolled": false
   },
   "outputs": [],
   "source": [
    "figCurrent, axCurrent = plt.subplots(1,2, figsize=(10,5))\n",
    "figCurrent.suptitle(\"Correction of current signal\", fontsize=14)\n",
    "\n",
    "# plot current over time for motor 3\n",
    "axCurrent[0].plot(fd_old['t'], fd_old['I3'], color=upCol, label='current3', zorder=1)\n",
    "\n",
    "# mark points that will replaced with red color\n",
    "axCurrent[0].scatter(fd_old['t'][minI3], fd_old['I3'][minI3], color='r', s=1, label='current3')\n",
    "\n",
    "# plot corrected current over time\n",
    "axCurrent[1].plot(fd['t'], fd['I3'], color=upCol, label='current3 (corrected)', zorder=1)\n",
    "\n",
    "# mark points that were replaced with red color\n",
    "axCurrent[1].scatter(fd['t'][minI3], fd['I3'][minI3], color='r', s=1, label='current3')\n",
    "\n",
    "for i in range(2):\n",
    "    axCurrent[i].set_xlabel('Time [s]')\n",
    "    axCurrent[i].set_ylabel('Current [A]')\n",
    "    axCurrent[i].set_ylim(0,20)\n",
    "    axCurrent[i].grid()\n",
    "    axCurrent[i].legend()\n"
   ]
  },
  {
   "cell_type": "markdown",
   "id": "ef62c5f6",
   "metadata": {},
   "source": [
    "### Calculate power and controls"
   ]
  },
  {
   "cell_type": "code",
   "execution_count": null,
   "id": "7beb2825",
   "metadata": {},
   "outputs": [],
   "source": [
    "fd = dl.calculate_power_and_rpm(fd)"
   ]
  },
  {
   "cell_type": "markdown",
   "id": "79b33ec3",
   "metadata": {},
   "source": [
    "### Calculate motor commands"
   ]
  },
  {
   "cell_type": "code",
   "execution_count": null,
   "id": "27036bc8",
   "metadata": {},
   "outputs": [],
   "source": [
    "fd = dl.calculate_motor_cmds(fd)"
   ]
  },
  {
   "cell_type": "markdown",
   "id": "8af61151",
   "metadata": {},
   "source": [
    "### Filter out hover sequence DataFrame"
   ]
  },
  {
   "cell_type": "code",
   "execution_count": null,
   "id": "e810ddbe",
   "metadata": {},
   "outputs": [],
   "source": [
    "# Reset current correction\n",
    "hoverIndex, fd_hover = select_sequence(fd, 30, 30)"
   ]
  },
  {
   "cell_type": "markdown",
   "id": "a6626cc7",
   "metadata": {},
   "source": [
    "### Remove values after $\\Delta_0$-step"
   ]
  },
  {
   "cell_type": "code",
   "execution_count": null,
   "id": "703425c8",
   "metadata": {},
   "outputs": [],
   "source": [
    "try:\n",
    "    fd_hover = fdUnfiltered\n",
    "except:\n",
    "    fdUnfiltered = fd_hover.copy(deep=True)"
   ]
  },
  {
   "cell_type": "code",
   "execution_count": null,
   "id": "a60777fd",
   "metadata": {},
   "outputs": [],
   "source": [
    "steps = fd_hover[np.abs(fd_hover['delta0'].diff()) > 0]\n",
    "\n",
    "for i in steps.index:\n",
    "    toDrop = np.arange(i,i+20)\n",
    "    fd_hover = fd_hover.drop(index=toDrop)"
   ]
  },
  {
   "cell_type": "code",
   "execution_count": null,
   "id": "b8aa615a",
   "metadata": {
    "scrolled": true
   },
   "outputs": [],
   "source": [
    "fig15, ax15 = plt.subplots(1,2,figsize=(10,4))\n",
    "fig15.suptitle('Show power signal after step filtering', fontsize=14)\n",
    "\n",
    "\n",
    "ax15[0].plot(fdUnfiltered['t'], fdUnfiltered['pVehicle'], label='raw signal')\n",
    "ax15[0].plot(fd_hover['t'], fd_hover['pVehicle'], label='filtered signal')\n",
    "ax15[1].plot(fd_hover['t'], fd_hover['delta0'], label='delta0')\n",
    "\n",
    "for i in range(2):\n",
    "    ax15[i].grid()\n",
    "    ax15[i].legend()\n",
    "#fd_hover = save"
   ]
  },
  {
   "cell_type": "markdown",
   "id": "0e1c85b9",
   "metadata": {},
   "source": [
    "### Calculate mean and median values for each $\\Delta_0$"
   ]
  },
  {
   "cell_type": "code",
   "execution_count": null,
   "id": "c29e923b",
   "metadata": {},
   "outputs": [],
   "source": [
    "delta0Mean = pd.pivot_table(fd_hover, index='delta0', aggfunc=np.mean)\n",
    "delta0Median = pd.pivot_table(fd_hover, index='delta0', aggfunc=np.median)"
   ]
  },
  {
   "cell_type": "markdown",
   "id": "c1de55d4",
   "metadata": {},
   "source": [
    "### Calculate mean and median values for each $\\Delta_0$"
   ]
  },
  {
   "cell_type": "code",
   "execution_count": null,
   "id": "9518d42b",
   "metadata": {},
   "outputs": [],
   "source": [
    "delta0Mean = pd.pivot_table(fd_hover, index='delta0', aggfunc=np.mean)\n",
    "delta0Median = pd.pivot_table(fd_hover, index='delta0', aggfunc=np.median)"
   ]
  },
  {
   "cell_type": "markdown",
   "id": "65f34d9d",
   "metadata": {},
   "source": [
    "## Start of analysis"
   ]
  },
  {
   "cell_type": "code",
   "execution_count": null,
   "id": "8bafab9f",
   "metadata": {
    "scrolled": false
   },
   "outputs": [],
   "source": [
    "# plot histogram of vnorm with corresponding limit\n",
    "\n",
    "fig0, ax0 = plt.subplots(1, 2, figsize=(10,5))\n",
    "fig0.suptitle('Velocity profile', fontsize=14)\n",
    "\n",
    "# vnorm in percentage of v_i\n",
    "v_norm = np.sqrt(fd['u']**2 + fd['v']**2 + fd['w']**2)\n",
    "v_norm_percentage = (v_norm/v_induced)*100  \n",
    "\n",
    "# plot moving average of vertical velocity w and highlight the hovering sequence\n",
    "ax0[0].plot(fd['t'], fd['w'], label='w full flight')\n",
    "ax0[0].plot(fd['t'].iloc[hoverIndex], fd['w'].iloc[hoverIndex], label='w hover sequence')\n",
    "\n",
    "# plot v_norm and hightlight hover sequence\n",
    "ax0[1].plot(fd['t'], v_norm_percentage, label='v_norm')\n",
    "ax0[1].plot(fd['t'].iloc[hoverIndex], v_norm_percentage.iloc[hoverIndex], label='v_norm hover sequence')\n",
    "\n",
    "# add red boundary lines to highlight separation between take-off/landing and hovering\n",
    "ax0[1].plot([hoverStart, hoverStart],[0, 3], 'r--')\n",
    "ax0[1].plot([max(fd['t'])-hoverEnd, max(fd['t'])-hoverEnd],[0, 3], 'r--')\n",
    "\n",
    "# add grid, legend, labels, etc.\n",
    "ax0[0].grid()\n",
    "ax0[0].legend()\n",
    "ax0[0].set_title('Vertical velocity')\n",
    "ax0[0].set_xlim(min(fd['t']), max(fd['t']))\n",
    "\n",
    "ax0[1].set_title('v norm')\n",
    "ax0[1].set_xlabel('time [s]')\n",
    "ax0[1].set_ylabel('v_norm [% of $v_i$]')\n",
    "ax0[1].grid()\n",
    "ax0[1].legend()\n",
    "ax0[1].set_xlim(min(fd['t']),max(fd['t']))"
   ]
  },
  {
   "cell_type": "code",
   "execution_count": null,
   "id": "8e0569f2",
   "metadata": {},
   "outputs": [],
   "source": [
    "# Plot fd['uIn'] input\n",
    "\n",
    "fig1, ax1 = plt.subplots(2, 2, figsize=(10,8))\n",
    "fig1.suptitle('Control Input', fontsize=14)\n",
    "\n",
    "ax1[0][0].plot(fd['t'], fd['uIn1'], label='roll cmd')\n",
    "ax1[0][1].plot(fd['t'], fd['uIn2'], label='pitch cmd')\n",
    "ax1[1][0].plot(fd['t'], fd['uIn3'], label='yaw cmd')\n",
    "ax1[1][1].plot(fd['t'], fd['uIn4'], label='throttle cmd')\n",
    "\n",
    "for i in range(2):\n",
    "    for j in range(2):\n",
    "        ax1[i][j].set_xlabel('Time [s]')\n",
    "        ax1[i][j].set_ylim(-1,1)\n",
    "        ax1[i][j].grid()\n",
    "        ax1[i][j].legend()\n",
    "\n",
    "ax1[0][0].set_ylabel(f'Roll cmd')\n",
    "ax1[0][1].set_ylabel(f'Pitch cmd')\n",
    "ax1[1][0].set_ylabel(f'Yaw cmd')\n",
    "ax1[1][1].set_ylabel(f'Throttle')\n",
    "\n",
    "ax1[0][0].set_title(f'Roll cmd')\n",
    "ax1[0][1].set_title(f'Pitch cmd')\n",
    "ax1[1][0].set_title(f'Yaw cmd')\n",
    "ax1[1][1].set_title(f'Throttle')\n",
    "\n",
    "fig1.tight_layout()"
   ]
  },
  {
   "cell_type": "code",
   "execution_count": null,
   "id": "61792424",
   "metadata": {
    "scrolled": false
   },
   "outputs": [],
   "source": [
    "# Plot motor cmds\n",
    "\n",
    "fig2, ax2 = plt.subplots(2, 2, figsize=(10,8))\n",
    "fig2.suptitle('Motor commands from B_plus matrix', fontsize=14)\n",
    "\n",
    "# Rotor pairs\n",
    "\n",
    "ax2[0][0].plot(fd['t'], fd[f'uOut2'], color=upCol, label='rotor2 (upper)')\n",
    "ax2[0][0].plot(fd['t'], fd[f'uOut5'], color=lowCol, label='rotor5 (lower)')\n",
    "\n",
    "ax2[0][1].plot(fd['t'], fd[f'uOut1'], color=upCol, label='rotor1 (upper)')\n",
    "ax2[0][1].plot(fd['t'], fd[f'uOut6'], color=lowCol, label='rotor6 (lower)')\n",
    "\n",
    "\n",
    "ax2[1][0].plot(fd['t'], fd[f'uOut3'], color=upCol, label='rotor3 (upper)')\n",
    "ax2[1][0].plot(fd['t'], fd[f'uOut8'], color=lowCol, label='rotor8 (lower)')\n",
    "\n",
    "ax2[1][1].plot(fd['t'], fd[f'uOut4'], color=upCol, label='rotor4 (upper)')\n",
    "ax2[1][1].plot(fd['t'], fd[f'uOut7'], color=lowCol, label='rotor7 (lower)')\n",
    "\n",
    "\n",
    "for i in range(2):\n",
    "    for j in range(2):\n",
    "        ax2[i][j].set_xlabel('Time [s]')\n",
    "        ax2[i][j].set_ylabel('$\\delta$')\n",
    "        ax2[i][j].set_ylim(-3,3)\n",
    "        ax2[i][j].grid()\n",
    "        ax2[i][j].legend()\n",
    "\n",
    "ax2[0][0].set_title(f'Motor command 2-5')\n",
    "ax2[0][1].set_title(f'Motor command 1-6')\n",
    "ax2[1][0].set_title(f'Motor command 3-8')\n",
    "ax2[1][1].set_title(f'Motor command 4-7')\n",
    "\n",
    "fig2.tight_layout()"
   ]
  },
  {
   "cell_type": "code",
   "execution_count": null,
   "id": "70c847de",
   "metadata": {
    "scrolled": false
   },
   "outputs": [],
   "source": [
    "# Plot RPM over time\n",
    "\n",
    "fig3, ax3 = plt.subplots(2, 2, figsize=(10,8))\n",
    "fig3.suptitle('RPM motors', fontsize=14)\n",
    "\n",
    "# Rotor pairs\n",
    "\n",
    "ax3[0][0].plot(fd['t'], fd[f'rpm2'], color=upCol, label='rotor2 (upper)')\n",
    "ax3[0][0].plot(fd['t'], fd[f'rpm5'], color=lowCol,label='rotor5 (lower)')\n",
    "\n",
    "ax3[0][1].plot(fd['t'], fd[f'rpm1'], color=upCol, label='rotor1 (upper)')\n",
    "ax3[0][1].plot(fd['t'], fd[f'rpm6'], color=lowCol, label='rotor6 (lower)')\n",
    "\n",
    "\n",
    "ax3[1][0].plot(fd['t'], fd[f'rpm3'], color=upCol, label='rotor3 (upper)')\n",
    "ax3[1][0].plot(fd['t'], fd[f'rpm8'], color=lowCol, label='rotor8 (lower)')\n",
    "\n",
    "ax3[1][1].plot(fd['t'], fd[f'rpm4'], color=upCol, label='rotor4 (upper)')\n",
    "ax3[1][1].plot(fd['t'], fd[f'rpm7'], color=lowCol, label='rotor7 (lower)')\n",
    "\n",
    "\n",
    "for i in range(2):\n",
    "    for j in range(2):\n",
    "        ax3[i][j].set_xlabel('Time [s]')\n",
    "        ax3[i][j].set_ylabel('RPM')\n",
    "        ax3[i][j].grid()\n",
    "        ax3[i][j].legend()\n",
    "\n",
    "ax3[0][0].set_title(f'RPM Motor pair 2-5')\n",
    "ax3[0][1].set_title(f'RPM Motor pair 1-6')\n",
    "ax3[1][0].set_title(f'RPM Motor pair 3-8')\n",
    "ax3[1][1].set_title(f'RPM Motor pair 4-7')\n",
    "\n",
    "fig3.tight_layout()"
   ]
  },
  {
   "cell_type": "code",
   "execution_count": null,
   "id": "ef4146ba",
   "metadata": {},
   "outputs": [],
   "source": [
    "# delta RPM\n",
    "\n",
    "fig4, ax4 = plt.subplots(2, 2, figsize=(10,8))\n",
    "fig4.suptitle('Delta RPM', fontsize=14)\n",
    "\n",
    "# Rotor pairs\n",
    "\n",
    "ax4[0][0].plot(fd['t'], fd['dRpmArm1'], label='$\\Delta$-RPM pair 2-5')\n",
    "ax4[0][1].plot(fd['t'], fd['dRpmArm2'], label='$\\Delta$-RPM pair 1-6')\n",
    "ax4[1][0].plot(fd['t'], fd['dRpmArm3'], label='$\\Delta$-RPM pair 3-8')\n",
    "ax4[1][1].plot(fd['t'], fd['dRpmArm4'], label='$\\Delta$-RPM pair 4-7')\n",
    "\n",
    "for i in range(2):\n",
    "    for j in range(2):\n",
    "        ax4[i][j].set_xlabel('Time [s]')\n",
    "        ax4[i][j].set_ylabel('RPM')\n",
    "        ax4[i][j].grid()\n",
    "        ax4[i][j].legend()\n",
    "\n",
    "ax4[0][0].set_title(f'$\\Delta$-RPM Motor pair 2-5')\n",
    "ax4[0][1].set_title(f'$\\Delta$-RPM Motor pair 1-6')\n",
    "ax4[1][0].set_title(f'$\\Delta$-RPM Motor pair 3-8')\n",
    "ax4[1][1].set_title(f'$\\Delta$-RPM Motor pair 4-7')\n",
    "\n",
    "fig4.tight_layout()"
   ]
  },
  {
   "cell_type": "code",
   "execution_count": null,
   "id": "85cc6b72",
   "metadata": {},
   "outputs": [],
   "source": [
    "# Plot current over time\n",
    "\n",
    "fig5, ax5 = plt.subplots(2, 2, figsize=(10,8))\n",
    "fig5.suptitle('Motor current', fontsize=14)\n",
    "# Rotor pairs\n",
    "\n",
    "ax5[0][0].plot(fd['t'],fd['I2'], color=upCol, label='rotor2 (upper)')\n",
    "ax5[0][0].plot(fd['t'],fd['I5'], color=lowCol, label='rotor5 (lower)')\n",
    "\n",
    "ax5[0][1].plot(fd['t'],fd['I1'], color=upCol, label='rotor1 (upper)')\n",
    "ax5[0][1].plot(fd['t'],fd['I6'], color=lowCol, label='rotor6 (lower)')\n",
    "\n",
    "\n",
    "ax5[1][0].plot(fd['t'],fd['I3'], color=upCol, label='rotor3 (upper)', zorder=1)\n",
    "ax5[1][0].plot(fd['t'],fd['I8'], color=lowCol, label='rotor8 (lower)')\n",
    "\n",
    "ax5[1][1].plot(fd['t'],fd['I4'], color=upCol, label='rotor4 (upper)')\n",
    "ax5[1][1].plot(fd['t'],fd['I7'], color=lowCol, label='rotor7 (lower)')\n",
    "\n",
    "for i in range(2):\n",
    "    for j in range(2):\n",
    "        ax5[i][j].set_xlabel('Time [s]')\n",
    "        ax5[i][j].set_ylabel('Current [A]')\n",
    "        ax5[i][j].set_ylim(0,20)\n",
    "        ax5[i][j].grid()\n",
    "        ax5[i][j].legend()\n",
    "\n",
    "ax5[0][0].set_title(f'Current Motor pair 2-5')\n",
    "ax5[0][1].set_title(f'Current Motor pair 1-6')\n",
    "ax5[1][0].set_title(f'Current Motor pair 3-8')\n",
    "ax5[1][1].set_title(f'Current Motor pair 4-7')\n",
    "\n",
    "fig5.tight_layout()"
   ]
  },
  {
   "cell_type": "code",
   "execution_count": null,
   "id": "0df78160",
   "metadata": {},
   "outputs": [],
   "source": [
    "# voltage over time\n",
    "\n",
    "fig6, ax6 = plt.subplots(2, 2, figsize=(10,8))\n",
    "fig6.suptitle('Motor voltage', fontsize=14)\n",
    "# Rotor pairs\n",
    "\n",
    "ax6[0][0].plot(fd['t'], fd['U2'], color=upCol, label='rotor2 (upper)')\n",
    "ax6[0][0].plot(fd['t'], fd['U5'], color=lowCol, label='rotor5 (lower)')\n",
    "\n",
    "ax6[0][1].plot(fd['t'], fd['U1'], color=upCol, label='rotor1 (upper)')\n",
    "ax6[0][1].plot(fd['t'], fd['U6'], color=lowCol, label='rotor6 (lower)')\n",
    "\n",
    "\n",
    "ax6[1][0].plot(fd['t'], fd['U3'], color=upCol, label='rotor3 (upper)')\n",
    "ax6[1][0].plot(fd['t'], fd['U8'], color=lowCol, label='rotor8 (lower)')\n",
    "\n",
    "ax6[1][1].plot(fd['t'], fd['U4'], color=upCol, label='rotor4 (upper)')\n",
    "ax6[1][1].plot(fd['t'], fd['U7'], color=lowCol, label='rotor7 (lower)')\n",
    "\n",
    "\n",
    "for i in range(2):\n",
    "    for j in range(2):\n",
    "        ax6[i][j].set_xlabel('Time [s]')\n",
    "        ax6[i][j].set_ylabel('Voltage [V]')\n",
    "        ax6[i][j].set_ylim(27, 33.5)\n",
    "        ax6[i][j].grid()\n",
    "        ax6[i][j].legend()\n",
    "\n",
    "ax6[0][0].set_title(f'Voltage Motor pair 2-5')\n",
    "ax6[0][1].set_title(f'Voltage Motor pair 1-6')\n",
    "ax6[1][0].set_title(f'Voltage Motor pair 3-8')\n",
    "ax6[1][1].set_title(f'Voltage Motor pair 4-7')\n",
    "\n",
    "fig6.tight_layout()"
   ]
  },
  {
   "cell_type": "markdown",
   "id": "1d78a6f9",
   "metadata": {},
   "source": [
    "# Power analysis"
   ]
  },
  {
   "cell_type": "code",
   "execution_count": null,
   "id": "efcb6226",
   "metadata": {},
   "outputs": [],
   "source": [
    "# Power over time for each motor\n",
    "\n",
    "fig7, ax7 = plt.subplots(2, 2, figsize=(10,8))\n",
    "fig7.suptitle('Motor power', fontsize=14)\n",
    "\n",
    "# Rotor pairs\n",
    "\n",
    "ax7[0][0].plot(fd['t'], fd['pMo2'], color=upCol, label='rotor2 (upper)')\n",
    "ax7[0][0].plot(fd['t'], fd['pMo5'], color=lowCol, label='rotor5 (lower)')\n",
    "\n",
    "ax7[0][1].plot(fd['t'], fd['pMo1'], color=upCol, label='rotor1 (upper)')\n",
    "ax7[0][1].plot(fd['t'], fd['pMo6'], color=lowCol, label='rotor6 (lower)')\n",
    "\n",
    "\n",
    "ax7[1][0].plot(fd['t'], fd['pMo3'], color=upCol, label='rotor3 (upper)')\n",
    "ax7[1][0].plot(fd['t'], fd['pMo8'], color=lowCol, label='rotor8 (lower)')\n",
    "\n",
    "ax7[1][1].plot(fd['t'], fd['pMo4'], color=upCol, label='rotor4 (upper)')\n",
    "ax7[1][1].plot(fd['t'], fd['pMo7'], color=lowCol, label='rotor7 (lower)')\n",
    "\n",
    "\n",
    "for i in range(2):\n",
    "    for j in range(2):\n",
    "        ax7[i][j].set_xlabel('Time [s]')\n",
    "        ax7[i][j].set_ylabel('Power [W]')\n",
    "        ax7[i][j].set_ylim(0,700)\n",
    "        ax7[i][j].grid()\n",
    "        ax7[i][j].legend()\n",
    "\n",
    "ax7[0][0].set_title(f'Power Motor pair 2-5')\n",
    "ax7[0][1].set_title(f'Power Motor pair 1-6')\n",
    "ax7[1][0].set_title(f'Power Motor pair 3-8')\n",
    "ax7[1][1].set_title(f'Power Motor pair 4-7')\n",
    "\n",
    "fig7.tight_layout()"
   ]
  },
  {
   "cell_type": "code",
   "execution_count": null,
   "id": "0ed204a3",
   "metadata": {
    "scrolled": false
   },
   "outputs": [],
   "source": [
    "# Perform regression Power vs. RPM\n",
    "\n",
    "rpm_range = np.linspace(0, 3000, 100).reshape(-1,1)\n",
    "rpmRegMotorFiltered = []\n",
    "fd_hover_filtered = []\n",
    "\n",
    "\n",
    "for i in range(1,9):\n",
    "    filtered = fd_hover[fd_hover[f'I{i}']> fd_hover[f'I{i}'].min()]\n",
    "    filtered = filtered[filtered[f'rpm{i}']> 0]\n",
    "    X = filtered[[f'rpm{i}']]\n",
    "    Y = filtered[[f'pMo{i}']]\n",
    "    features = PolynomialFeatures(degree=3, include_bias=False).fit_transform(X)\n",
    "    rpmRegression = LinearRegression(fit_intercept=False, positive=True)\n",
    "    rpmRegression.fit(features, Y)\n",
    "    rpm_range_poly = PolynomialFeatures(degree=3, include_bias=False).fit_transform(rpm_range)\n",
    "    reg_curve = rpmRegression.predict(rpm_range_poly)\n",
    "    rpmRegMotorFiltered.append(reg_curve)\n",
    "    fd_hover_filtered.append(filtered)"
   ]
  },
  {
   "cell_type": "code",
   "execution_count": null,
   "id": "79157a31",
   "metadata": {
    "scrolled": false
   },
   "outputs": [],
   "source": [
    "# Power over effective RPM\n",
    "\n",
    "fig8, ax8 = plt.subplots(2, 2, figsize=(10,8))\n",
    "fig8.suptitle('Power vs. RPM', fontsize=14)\n",
    "\n",
    "# Plot outliers\n",
    "ax8[0][0].scatter(fdUnfiltered['rpm2'], fdUnfiltered['pMo2'], s=markersize, color='gray')\n",
    "ax8[0][0].scatter(fdUnfiltered['rpm5'], fdUnfiltered['pMo5'], s=markersize, color='gray', label='outliers')\n",
    "ax8[0][1].scatter(fdUnfiltered['rpm1'], fdUnfiltered['pMo1'], s=markersize, color='gray')\n",
    "ax8[0][1].scatter(fdUnfiltered['rpm6'], fdUnfiltered['pMo6'], s=markersize, color='gray', label='outliers')\n",
    "ax8[1][0].scatter(fdUnfiltered['rpm3'], fdUnfiltered['pMo3'], s=markersize, color='gray')\n",
    "ax8[1][0].scatter(fdUnfiltered['rpm8'], fdUnfiltered['pMo8'], s=markersize, color='gray', label='outliers')\n",
    "ax8[1][1].scatter(fdUnfiltered['rpm4'], fdUnfiltered['pMo4'], s=markersize, color='gray')\n",
    "ax8[1][1].scatter(fdUnfiltered['rpm7'], fdUnfiltered['pMo7'], s=markersize, color='gray', label='outliers')\n",
    "\n",
    "\n",
    "ax8[0][0].scatter(fd_hover['rpm2'], fd_hover['pMo2'], s=markersize, color=upCol, label='rotor2 (upper)')\n",
    "ax8[0][0].scatter(fd_hover['rpm5'], fd_hover['pMo5'], s=markersize, color=lowCol, label='rotor5 (lower)')\n",
    "\n",
    "ax8[0][1].scatter(fd_hover['rpm1'], fd_hover['pMo1'], s=markersize, color=upCol, label='rotor1 (upper)')\n",
    "ax8[0][1].scatter(fd_hover['rpm6'], fd_hover['pMo6'], s=markersize, color=lowCol, label='rotor6 (lower)')\n",
    "\n",
    "ax8[1][0].scatter(fd_hover['rpm3'], fd_hover['pMo3'], s=markersize, color=upCol, label='rotor3 (upper)')\n",
    "ax8[1][0].scatter(fd_hover['rpm8'], fd_hover['pMo8'], s=markersize, color=lowCol, label='rotor8 (lower)')\n",
    "\n",
    "ax8[1][1].scatter(fd_hover['rpm4'], fd_hover['pMo4'], s=markersize, color=upCol, label='rotor4 (upper)')\n",
    "ax8[1][1].scatter(fd_hover['rpm7'], fd_hover['pMo7'], s=markersize, color=lowCol, label='rotor7 (lower)')\n",
    "\n",
    "ax8[0][0].plot(rpm_range, rpmRegMotorFiltered[1], linestyle='dashed', color=upMeanCol, label='rotor5 (regression)')\n",
    "ax8[0][0].plot(rpm_range, rpmRegMotorFiltered[4], linestyle='dashed', color=lowMeanCol, label='rotor5 (regression)')\n",
    "\n",
    "ax8[0][1].plot(rpm_range, rpmRegMotorFiltered[0], linestyle='dashed', color=upMeanCol, label='rotor1 (regression)')\n",
    "ax8[0][1].plot(rpm_range, rpmRegMotorFiltered[5], linestyle='dashed', color=lowMeanCol, label='rotor6 (regression)')\n",
    "\n",
    "ax8[1][0].plot(rpm_range, rpmRegMotorFiltered[2], linestyle='dashed', color=upMeanCol, label='rotor3 (regression)')\n",
    "ax8[1][0].plot(rpm_range, rpmRegMotorFiltered[7], linestyle='dashed', color=lowMeanCol, label='rotor8 (regression)')\n",
    "\n",
    "ax8[1][1].plot(rpm_range, rpmRegMotorFiltered[3], linestyle='dashed', color=upMeanCol, label='rotor4 (regression)')\n",
    "ax8[1][1].plot(rpm_range, rpmRegMotorFiltered[6], linestyle='dashed', color=lowMeanCol, label='rotor7 (regression)')\n",
    "\n",
    "for i in range(2):\n",
    "    for j in range(2):\n",
    "        ax8[i][j].set_xlabel('RPM')\n",
    "        ax8[i][j].set_ylabel('Power [W]')\n",
    "        ax8[i][j].set_xlim(0,4000)\n",
    "        ax8[i][j].set_ylim(0,600)\n",
    "        ax8[i][j].grid()\n",
    "        ax8[i][j].legend()\n",
    "\n",
    "ax8[0][0].set_title(f'Power vs. RPM motor-pair 2-5')\n",
    "ax8[0][1].set_title(f'Power vs. RPM motor-pair 1-6')\n",
    "ax8[1][0].set_title(f'Power vs. RPM motor-pair 3-8')\n",
    "ax8[1][1].set_title(f'Power vs. RPM motor-pair 4-7')\n",
    "\n",
    "fig8.tight_layout()"
   ]
  },
  {
   "cell_type": "code",
   "execution_count": null,
   "id": "97220cad",
   "metadata": {
    "scrolled": false
   },
   "outputs": [],
   "source": [
    "# Power per motor over delta0\n",
    "\n",
    "fig9, ax9 = plt.subplots(2, 2, figsize=(10,8))\n",
    "fig9.suptitle('Power vs. $\\Delta_{0}$ per motor', fontsize=14)\n",
    "\n",
    "# Outliers\n",
    "ax9[0][0].scatter(fdUnfiltered['delta0'], fdUnfiltered['pMo2'], s=markersize, color= 'gray')\n",
    "ax9[0][0].scatter(fdUnfiltered['delta0'], fdUnfiltered['pMo5'], s=markersize, color= 'gray', label='outliers')\n",
    "ax9[0][1].scatter(fdUnfiltered['delta0'], fdUnfiltered['pMo1'], s=markersize, color= 'gray')\n",
    "ax9[0][1].scatter(fdUnfiltered['delta0'], fdUnfiltered['pMo6'], s=markersize, color= 'gray', label='outliers')\n",
    "ax9[1][0].scatter(fdUnfiltered['delta0'], fdUnfiltered['pMo3'], s=markersize, color= 'gray')\n",
    "ax9[1][0].scatter(fdUnfiltered['delta0'], fdUnfiltered['pMo8'], s=markersize, color= 'gray', label='outliers')\n",
    "ax9[1][1].scatter(fdUnfiltered['delta0'], fdUnfiltered['pMo4'], s=markersize, color= 'gray')\n",
    "ax9[1][1].scatter(fdUnfiltered['delta0'], fdUnfiltered['pMo7'], s=markersize, color= 'gray', label='outliers')\n",
    "\n",
    "# Rotor pairs\n",
    "ax9[0][0].scatter(fd_hover['delta0'], fd_hover['pMo2'], s=markersize, color= upCol, label='rotor2 (upper)')\n",
    "ax9[0][0].scatter(delta0Mean.index, delta0Mean['pMo2'], marker='x', color=upMeanCol, s=50, label='rotor2 mean')\n",
    "\n",
    "ax9[0][0].scatter(fd_hover['delta0'], fd_hover['pMo5'], s=markersize, color= lowCol, label='rotor5 (lower)')\n",
    "ax9[0][0].scatter(delta0Mean.index, delta0Mean['pMo5'], marker='x', color=lowMeanCol, s=50, label='rotor5 mean')\n",
    "\n",
    "ax9[0][1].scatter(fd_hover['delta0'], fd_hover['pMo1'], s=markersize, color= upCol, label='rotor1 (upper)')\n",
    "ax9[0][1].scatter(delta0Mean.index, delta0Mean['pMo1'], marker='x', color=upMeanCol, s=50, label='rotor1 mean')\n",
    "\n",
    "ax9[0][1].scatter(fd_hover['delta0'], fd_hover['pMo6'], s=markersize, color= lowCol, label='rotor6 (lower)')\n",
    "ax9[0][1].scatter(delta0Mean.index, delta0Mean['pMo6'], marker='x', color=lowMeanCol, s=50, label='rotor6 mean')\n",
    "\n",
    "ax9[1][0].scatter(fd_hover['delta0'], fd_hover['pMo3'], s=markersize, color= upCol, label='rotor3 (upper)')\n",
    "ax9[1][0].scatter(delta0Mean.index, delta0Mean['pMo3'], marker='x', color=upMeanCol, s=50, label='rotor3 mean')\n",
    "\n",
    "ax9[1][0].scatter(fd_hover['delta0'], fd_hover['pMo8'], s=markersize, color= lowCol, label='rotor8 (lower)')\n",
    "ax9[1][0].scatter(delta0Mean.index, delta0Mean['pMo8'], marker='x', color=lowMeanCol, s=50, label='rotor8 mean')\n",
    "\n",
    "ax9[1][1].scatter(fd_hover['delta0'], fd_hover['pMo4'], s=markersize, color= upCol, label='rotor4 (upper)')\n",
    "ax9[1][1].scatter(delta0Mean.index, delta0Mean['pMo4'], marker='x', color=upMeanCol, s=50, label='rotor4 mean')\n",
    "\n",
    "ax9[1][1].scatter(fd_hover['delta0'], fd_hover['pMo7'], s=markersize, color= lowCol, label='rotor7 (lower)')\n",
    "ax9[1][1].scatter(delta0Mean.index, delta0Mean['pMo7'], marker='x', color=lowMeanCol, s=50, label='rotor7 mean')\n",
    "\n",
    "#\n",
    "for i in range(2):\n",
    "    for j in range(2):\n",
    "        ax9[i][j].set_xlabel('$\\Delta_{0}$')\n",
    "        ax9[i][j].set_ylabel('Power [W]')\n",
    "        ax9[i][j].set_ylim(0,600)\n",
    "        ax9[i][j].grid()\n",
    "        ax9[i][j].legend()\n",
    "\n",
    "ax9[0][0].set_title(f'Motor pair 2-5: Power vs. $\\Delta_0$')\n",
    "ax9[0][1].set_title(f'Motor pair 1-6: Power vs. $\\Delta_0$')\n",
    "ax9[1][0].set_title(f'Motor pair 3-8: Power vs. $\\Delta_0$')\n",
    "ax9[1][1].set_title(f'Motor pair 4-7: Power vs. $\\Delta_0$')\n",
    "\n",
    "fig9.tight_layout()"
   ]
  },
  {
   "cell_type": "code",
   "execution_count": null,
   "id": "4ebd61c3",
   "metadata": {},
   "outputs": [],
   "source": [
    "# Power per arm over delta0\n",
    "\n",
    "fig10, ax10 = plt.subplots(2, 2, figsize=(10,8))\n",
    "fig10.suptitle('Power vs. $\\Delta_{0}$ per arm', fontsize=14)\n",
    "\n",
    "# Arms\n",
    "ax10[0][0].scatter(fdUnfiltered['delta0'], fdUnfiltered['pArm1'], color='gray', s=markersize, label='outliers')\n",
    "ax10[0][1].scatter(fdUnfiltered['delta0'], fdUnfiltered['pArm2'], color='gray', s=markersize, label='outliers')\n",
    "ax10[1][0].scatter(fdUnfiltered['delta0'], fdUnfiltered['pArm3'], color='gray', s=markersize, label='outliers')\n",
    "ax10[1][1].scatter(fdUnfiltered['delta0'], fdUnfiltered['pArm4'], color='gray', s=markersize, label='outliers')\n",
    "\n",
    "# Arms\n",
    "ax10[0][0].scatter(fd_hover['delta0'], fd_hover['pArm1'], color=armCol, s=markersize, label='arm1')\n",
    "ax10[0][1].scatter(fd_hover['delta0'], fd_hover['pArm2'], color=armCol, s=markersize, label='arm2')\n",
    "ax10[1][0].scatter(fd_hover['delta0'], fd_hover['pArm3'], color=armCol, s=markersize, label='arm3')\n",
    "ax10[1][1].scatter(fd_hover['delta0'], fd_hover['pArm4'], color=armCol, s=markersize, label='arm4')\n",
    "\n",
    "# Rotor pairs\n",
    "markersize=50\n",
    "ax10[0][0].scatter(delta0Mean.index, delta0Mean['pArm1'], marker='x', color=armMeanCol, s=markersize, label='arm1 mean')\n",
    "ax10[0][1].scatter(delta0Mean.index, delta0Mean['pArm2'], marker='x', color=armMeanCol, s=markersize, label='arm2 mean')\n",
    "ax10[1][0].scatter(delta0Mean.index, delta0Mean['pArm3'], marker='x', color=armMeanCol, s=markersize, label='arm3 mean')\n",
    "ax10[1][1].scatter(delta0Mean.index, delta0Mean['pArm4'], marker='x', color=armMeanCol, s=markersize, label='arm4 mean')\n",
    "\n",
    "markersize=15\n",
    "\n",
    "for i in range(2):\n",
    "    for j in range(2):\n",
    "        ax10[i][j].set_xlabel('$\\Delta_{0}$-cmd')\n",
    "        ax10[i][j].set_ylabel('Power [W]')\n",
    "        ax10[i][j].set_ylim(0, 900)\n",
    "        ax10[i][j].grid()\n",
    "        ax10[i][j].legend()\n",
    "\n",
    "ax10[0][0].set_title(f'Arm 1 (motors 2-5): Power vs. $\\Delta_0$')\n",
    "ax10[0][1].set_title(f'Arm 2 (motors 1-6): Power vs. $\\Delta_0$')\n",
    "ax10[1][0].set_title(f'Arm 3 (motors 3-8): Power vs. $\\Delta_0$')\n",
    "ax10[1][1].set_title(f'Arm 3 (motors 4-7): Power vs. $\\Delta_0$')\n",
    "\n",
    "fig10.tight_layout()"
   ]
  },
  {
   "cell_type": "code",
   "execution_count": null,
   "id": "233457f8",
   "metadata": {},
   "outputs": [],
   "source": [
    "np.sort(np.flip(fd_hover['delta0'].unique()))"
   ]
  },
  {
   "cell_type": "code",
   "execution_count": null,
   "id": "a728a881",
   "metadata": {
    "scrolled": false
   },
   "outputs": [],
   "source": [
    "# Power per arm over delta0\n",
    "\n",
    "fig11, ax11 = plt.subplots(2, 2, figsize=(10,8))\n",
    "fig11.suptitle('Boxplot Power vs. $\\Delta_{0}$ per arm', fontsize=14)\n",
    "\n",
    "# Arms\n",
    "sns.boxplot(data=fd_hover, x='delta0', y='pArm1', ax=ax11[0][0])\n",
    "sns.boxplot(data=fd_hover, x='delta0', y='pArm2', ax=ax11[0][1])\n",
    "sns.boxplot(data=fd_hover, x='delta0', y='pArm3', ax=ax11[1][0])\n",
    "sns.boxplot(data=fd_hover, x='delta0', y='pArm4', ax=ax11[1][1])\n",
    "\n",
    "for i in range(2):\n",
    "    for j in range(2):\n",
    "        ax11[i][j].set_xlabel('$\\Delta_{0}$-cmd')\n",
    "        ax11[i][j].set_xticklabels(np.sort(np.flip(fd_hover['delta0'].unique())))\n",
    "        ax11[i][j].set_ylim(300,600)\n",
    "        ax11[i][j].grid()\n",
    "\n",
    "fig11.tight_layout()"
   ]
  },
  {
   "cell_type": "markdown",
   "id": "b34f8357",
   "metadata": {},
   "source": [
    "### Outlier removal"
   ]
  },
  {
   "cell_type": "code",
   "execution_count": null,
   "id": "d9f77da3",
   "metadata": {},
   "outputs": [],
   "source": [
    "#%%capture\n",
    "#\n",
    "#deltaList = []\n",
    "#boxLabels = []\n",
    "#\n",
    "#for d in fd['delta0'].unique():\n",
    "#    deltaList.append(np.intersect1d(np.where(delta0== d), hover))\n",
    "#    boxLabels.append(f'{d}')\n",
    "#\n",
    "#boxArm1 = [power_pair['25'].values[delta] for delta in deltaList]\n",
    "#boxArm2 = [power_pair['16'].values[delta] for delta in deltaList]\n",
    "#boxArm3 = [power_pair['38'].values[delta] for delta in deltaList]\n",
    "#boxArm4 = [power_pair['47'].values[delta] for delta in deltaList]\n",
    "#boxTotal = [boxArm1[i] + boxArm2[i] + boxArm3[i] + boxArm4[i] for i in range(len(deltaList))]\n",
    "#\n",
    "## get indices of all outliers\n",
    "#\n",
    "#boxArms = [boxArm1, boxArm2, boxArm3, boxArm4]\n",
    "#powerPairs = [power_pair['25'].values, power_pair['16'].values, power_pair['38'].values, power_pair['47'].values]\n",
    "#outliers = np.empty(0, int)\n",
    "#\n",
    "#tempFig, tempAx = plt.subplots(1,1)\n",
    "#\n",
    "#for i in range(4):  # iterate over all 4 arms\n",
    "#    \n",
    "#    box = plt.boxplot(boxArms[i])\n",
    "#\n",
    "#    for j in range (len(box['fliers'])):\n",
    "#        fliers = box['fliers'][j].get_ydata()\n",
    "#        indices = np.where(np.isin(powerPairs[i], fliers) == True)\n",
    "#        outliers = np.append(outliers, indices)\n",
    "#\n",
    "#outliers = np.unique(outliers)\n",
    "#\n",
    "## use this hover_new variable instead of hover to remove outliers (does not seem to have much impact)\n",
    "#hover_new = np.setdiff1d(hover, outliers)"
   ]
  },
  {
   "cell_type": "code",
   "execution_count": null,
   "id": "d84bb51d",
   "metadata": {
    "scrolled": false
   },
   "outputs": [],
   "source": [
    "# Power per arm over deltaRPM\n",
    "\n",
    "fig12, ax12 = plt.subplots(2, 2, figsize=(10,8))\n",
    "fig12.suptitle('Delta-RPM vs. $\\Delta_{0}$ per arm', fontsize=14)\n",
    "\n",
    "# Plot unfiltered data to show outliers\n",
    "ax12[0][0].scatter(fdUnfiltered['delta0'], fdUnfiltered['dRpmArm1'], color='gray', s=markersize, label='outliers')\n",
    "ax12[0][1].scatter(fdUnfiltered['delta0'], fdUnfiltered['dRpmArm2'], color='gray', s=markersize, label='outliers')\n",
    "ax12[1][0].scatter(fdUnfiltered['delta0'], fdUnfiltered['dRpmArm3'], color='gray', s=markersize, label='outliers')\n",
    "ax12[1][1].scatter(fdUnfiltered['delta0'], fdUnfiltered['dRpmArm4'], color='gray', s=markersize, label='outliers')\n",
    "\n",
    "# Arms\n",
    "ax12[0][0].scatter(fd_hover['delta0'], fd_hover['dRpmArm1'], color=armCol, s=markersize, label='arm1')\n",
    "ax12[0][1].scatter(fd_hover['delta0'], fd_hover['dRpmArm2'], color=armCol, s=markersize, label='arm2')\n",
    "ax12[1][0].scatter(fd_hover['delta0'], fd_hover['dRpmArm3'], color=armCol, s=markersize, label='arm3')\n",
    "ax12[1][1].scatter(fd_hover['delta0'], fd_hover['dRpmArm4'], color=armCol, s=markersize, label='arm4')\n",
    "\n",
    "# Rotor pairs\n",
    "markersize=50\n",
    "ax12[0][0].scatter(delta0Mean.index, delta0Mean['dRpmArm1'], marker='x', color=armMeanCol, s=markersize, label='mean ')\n",
    "ax12[0][1].scatter(delta0Mean.index, delta0Mean['dRpmArm2'], marker='x', color=armMeanCol, s=markersize, label='mean Power')\n",
    "ax12[1][0].scatter(delta0Mean.index, delta0Mean['dRpmArm3'], marker='x', color=armMeanCol, s=markersize, label='mean Power')\n",
    "ax12[1][1].scatter(delta0Mean.index, delta0Mean['dRpmArm4'], marker='x', color=armMeanCol, s=markersize, label='mean Power')\n",
    "\n",
    "markersize=15\n",
    "\n",
    "for i in range(2):\n",
    "    for j in range(2):\n",
    "        ax12[i][j].set_xlabel('$\\Delta_{0}$-cmd')\n",
    "        ax12[i][j].set_ylabel('Delta-RPM [-]')\n",
    "        ax12[i][j].set_ylim(-2000, 500)\n",
    "        ax12[i][j].grid()\n",
    "        ax12[i][j].legend(loc='upper left')\n",
    "\n",
    "ax12[0][0].set_title(f'Arm 1 (motors 2-5): Delta-RPM vs. $\\Delta_0$')\n",
    "ax12[0][1].set_title(f'Arm 2 (motors 1-6): Delta-RPM vs. $\\Delta_0$')\n",
    "ax12[1][0].set_title(f'Arm 3 (motors 3-8): Delta-RPM vs. $\\Delta_0$')\n",
    "ax12[1][1].set_title(f'Arm 3 (motors 4-7): Delta-RPM vs. $\\Delta_0$')\n",
    "\n",
    "fig12.tight_layout()"
   ]
  },
  {
   "cell_type": "code",
   "execution_count": null,
   "id": "2f40c748",
   "metadata": {},
   "outputs": [],
   "source": [
    "# Power per arm over deltaRPM\n",
    "\n",
    "fig13, ax13 = plt.subplots(2, 2, figsize=(10,8))\n",
    "fig13.suptitle('Power vs. actual delta RPM', fontsize=14)\n",
    "\n",
    "# Plot unfiltered data to show outliers\n",
    "ax13[0][0].scatter(fdUnfiltered['dRpmArm1'], fdUnfiltered['pArm1'], color='gray', s=markersize, label='outliers')\n",
    "ax13[0][1].scatter(fdUnfiltered['dRpmArm2'], fdUnfiltered['pArm2'], color='gray', s=markersize, label='outliers')\n",
    "ax13[1][0].scatter(fdUnfiltered['dRpmArm3'], fdUnfiltered['pArm3'], color='gray', s=markersize, label='outliers')\n",
    "ax13[1][1].scatter(fdUnfiltered['dRpmArm4'], fdUnfiltered['pArm4'], color='gray', s=markersize, label='outliers')\n",
    "\n",
    "# Arms\n",
    "ax13[0][0].scatter(fd_hover['dRpmArm1'], fd_hover['pArm1'], color=armCol, s=markersize, label='arm1')\n",
    "ax13[0][1].scatter(fd_hover['dRpmArm2'], fd_hover['pArm2'], color=armCol, s=markersize, label='arm2')\n",
    "ax13[1][0].scatter(fd_hover['dRpmArm3'], fd_hover['pArm3'], color=armCol, s=markersize, label='arm3')\n",
    "ax13[1][1].scatter(fd_hover['dRpmArm4'], fd_hover['pArm4'], color=armCol, s=markersize, label='arm4')\n",
    "\n",
    "for i in range(2):\n",
    "    for j in range(2):\n",
    "        ax13[i][j].set_xlabel('Delta-RPM [-]')\n",
    "        ax13[i][j].set_ylabel('Power [W]')\n",
    "        ax13[i][j].set_ylim(0, 600)\n",
    "        ax13[i][j].grid()\n",
    "        ax13[i][j].legend(loc='upper left')\n",
    "\n",
    "ax13[0][0].set_title(f'Arm 1 (motors 2-5): Power vs. Delta-RPM')\n",
    "ax13[0][1].set_title(f'Arm 2 (motors 1-6): Power vs. Delta-RPM')\n",
    "ax13[1][0].set_title(f'Arm 3 (motors 3-8): Power vs. Delta-RPM')\n",
    "ax13[1][1].set_title(f'Arm 4 (motors 4-7): Power vs. Delta-RPM')\n",
    "\n",
    "fig13.tight_layout()"
   ]
  },
  {
   "cell_type": "code",
   "execution_count": null,
   "id": "fbd71214",
   "metadata": {},
   "outputs": [],
   "source": [
    "fig14, ax14 = plt.subplots(1,2,figsize=(10,4))\n",
    "fig14.suptitle('Total vehicle power over $\\Delta_0$ and Delta-RPM', fontsize=14)\n",
    "\n",
    "ax14[0].scatter(fdUnfiltered['delta0'], fdUnfiltered['pVehicle'], color='gray', s=markersize, label='total vehicle power')\n",
    "ax14[0].scatter(fd_hover['delta0'], fd_hover['pVehicle'], color=armCol, s=markersize, label='total vehicle power')\n",
    "\n",
    "ax14[0].scatter(delta0Mean.index, delta0Mean['pVehicle'], marker='x', s=50, color=armMeanCol, label='mean vehicle power')\n",
    "ax14[0].scatter(delta0Mean.index, delta0Median['pVehicle'], marker='x', s=50, color='b', label='median vehicle power')\n",
    "\n",
    "ax14[1].scatter(fdUnfiltered['dRpmArm1'], fdUnfiltered['pVehicle'], color='gray', s=markersize, label='outliers')\n",
    "ax14[1].scatter(fd_hover['dRpmArm1'], fd_hover['pVehicle'], color=armCol, s=markersize, label='total vehicle power')\n",
    "\n",
    "ax14[0].set_xlabel('$\\Delta_{0}$-cmd')\n",
    "ax14[0].set_ylabel('Power [W]')\n",
    "ax14[0].set_ylim(1000, 2100)\n",
    "ax14[0].grid()\n",
    "ax14[0].legend(loc='lower left')\n",
    "ax14[0].set_title('Total vehicle power vs. $\\Delta_0$')    \n",
    "\n",
    "ax14[1].set_xlabel('Delta-RPM')\n",
    "ax14[1].set_ylabel('Power [W]')\n",
    "ax14[1].legend(loc='lower left')\n",
    "ax14[1].set_ylim(1000, 2000)\n",
    "ax14[1].grid()\n",
    "ax14[1].set_title('Total vehicle power vs. Delta-RPM') \n",
    "\n",
    "fig14.tight_layout()"
   ]
  },
  {
   "cell_type": "markdown",
   "id": "71691439",
   "metadata": {},
   "source": [
    "## Model bulding (will be moved to separate script)"
   ]
  },
  {
   "cell_type": "markdown",
   "id": "f2a55f92",
   "metadata": {},
   "source": [
    "### Distribution for $\\Delta_0$-values"
   ]
  },
  {
   "cell_type": "code",
   "execution_count": null,
   "id": "acf20d88",
   "metadata": {},
   "outputs": [],
   "source": [
    "from scipy.stats import ttest_ind"
   ]
  },
  {
   "cell_type": "code",
   "execution_count": null,
   "id": "8f5c7831",
   "metadata": {},
   "outputs": [],
   "source": [
    "fd_hover['delta0'].value_counts()\n",
    "means = fd_hover.groupby(['delta0']).mean()\n",
    "stds = fd_hover.groupby(['delta0']).std()"
   ]
  },
  {
   "cell_type": "code",
   "execution_count": null,
   "id": "275c3857",
   "metadata": {},
   "outputs": [],
   "source": [
    "a1 = fd_hover['pVehicle'].loc[fd_hover['delta0']==0]\n",
    "a2 = fd_hover['pVehicle'].loc[fd_hover['delta0']==-0.2]\n",
    "\n",
    "ttest_ind(a1,a2)"
   ]
  },
  {
   "cell_type": "code",
   "execution_count": null,
   "id": "1af3da37",
   "metadata": {
    "scrolled": false
   },
   "outputs": [],
   "source": [
    "figTest, axTest = plt.subplots(3,2,figsize=(8,8))\n",
    "figTest.suptitle('Power distribution for each $\\Delta_0$', fontsize=14)\n",
    "\n",
    "variable = 'pVehicle'\n",
    "\n",
    "for idx in range(6):\n",
    "    \n",
    "    i = int(idx/2)\n",
    "    j = idx%2\n",
    "    \n",
    "    \n",
    "    delta0 = fd['delta0'].unique()[idx]\n",
    "    \n",
    "    data = fd_hover.loc[fd['delta0']==delta0]\n",
    "    mean = np.around(means[variable].loc[delta0], 1)\n",
    "    std = np.around(stds[variable].loc[delta0], 1)\n",
    "    \n",
    "    sns.histplot(data=data, x=variable, ax=axTest[i][j], kde=True, bins=20)\n",
    "    axTest[i][j].plot([mean, mean],[0, 150], 'r--', label='$\\mu$')\n",
    "    \n",
    "    axTest[i][j].set_title(f'$\\Delta_{0}$={delta0} ($\\mu$={mean} $\\sigma$={std})')\n",
    "    axTest[i][j].grid()\n",
    "    axTest[i][j].legend()\n",
    "    axTest[i][j].set_xlim(1400,1800)\n",
    "    axTest[i][j].set_ylim(0,150)\n",
    "    \n",
    "    \n",
    "figTest.tight_layout()"
   ]
  },
  {
   "cell_type": "markdown",
   "id": "576775b0",
   "metadata": {},
   "source": [
    "### Correlation analysis"
   ]
  },
  {
   "cell_type": "code",
   "execution_count": null,
   "id": "ede4d4c6",
   "metadata": {},
   "outputs": [],
   "source": [
    "fd_correl = fd_hover.copy(deep=True)\n",
    "#fd_correl = fd_correl.rolling(1).mean()\n",
    "fd_correl = fd_correl.dropna()\n",
    "\n",
    "#fd_correl['pVehicle'] = fd_correl['pVehicle'].shift(0)\n",
    "fd_correl = fd_correl.dropna()\n",
    "fd_correl = fd_correl.drop(columns={'t'})\n",
    "\n",
    "fd_correl = fd_correl.corr()\n",
    "fd_correl.loc[['pVehicle']]"
   ]
  },
  {
   "cell_type": "code",
   "execution_count": null,
   "id": "6169ea4b",
   "metadata": {},
   "outputs": [],
   "source": [
    "fd_normalized = fd_hover.copy(deep=True)\n",
    "\n",
    "for column in fd_hover.columns:\n",
    "    fd_normalized[column] = normalize(fd_normalized[column])\n",
    "fd_normalized['t'] = fd_hover['t']\n",
    "normal_correl = fd_normalized.corr()\n",
    "normal_correl = normal_correl.drop(columns={'t'})\n",
    "normal_correl.loc[['pVehicle']]"
   ]
  },
  {
   "cell_type": "markdown",
   "id": "f3087ded",
   "metadata": {},
   "source": [
    "&rarr; Normalization does not change cross correlation"
   ]
  },
  {
   "cell_type": "markdown",
   "id": "fb672e86",
   "metadata": {},
   "source": [
    "### Check for time delay between signals"
   ]
  },
  {
   "cell_type": "markdown",
   "id": "3a88fd92",
   "metadata": {},
   "source": [
    "The following cell takes about 30-60 seconds for execution"
   ]
  },
  {
   "cell_type": "code",
   "execution_count": null,
   "id": "28fa00aa",
   "metadata": {},
   "outputs": [],
   "source": [
    "cross_correl = pd.DataFrame()\n",
    "\n",
    "#fd_smoothed = fd.rolling(60).mean()\n",
    "fd_smoothed = fd_hover.copy(deep=True)\n",
    "#fd_smoothed['t'] = fd['t']\n",
    "#fd_smoothed = fd_smoothed.dropna()\n",
    "#fd_smoothed = fd_smoothed.round(decimals=2)\n",
    "\n",
    "fd_smoothed['du'] = fd_smoothed['u'].diff() / fd_smoothed['t'].diff()\n",
    "fd_smoothed['dv'] = fd_smoothed['u'].diff() / fd_smoothed['t'].diff()\n",
    "fd_smoothed['dw'] = fd_smoothed['u'].diff() / fd_smoothed['t'].diff()\n",
    "\n",
    "fd_smoothed['dp'] = fd_smoothed['p'].diff() / fd_smoothed['t'].diff()\n",
    "fd_smoothed['dq'] = fd_smoothed['q'].diff() / fd_smoothed['t'].diff()\n",
    "fd_smoothed['dr'] = fd_smoothed['r'].diff() / fd_smoothed['t'].diff()\n",
    "\n",
    "fd_smoothed = fd_smoothed.dropna()\n",
    "\n",
    "for i in range(-300, 300):\n",
    "    fd_shifted = fd_smoothed.copy()\n",
    "    fd_shifted['pVehicle'] = fd_smoothed['pVehicle'].shift(i)\n",
    "    fd_shifted = fd_shifted.dropna()\n",
    "\n",
    "    fd_shifted = fd_shifted.drop(columns={'t'})\n",
    "\n",
    "    fd_corr = fd_shifted.corr()\n",
    "\n",
    "    value = fd_corr.loc[['pVehicle']]#.sort_values()\n",
    "    value['idx'] = i\n",
    "\n",
    "    cross_correl = pd.concat([cross_correl, value])\n",
    "\n",
    "cross_correl = cross_correl.reset_index()\n",
    "\n",
    "keys = fd_hover.keys()"
   ]
  },
  {
   "cell_type": "code",
   "execution_count": null,
   "id": "01840aa5",
   "metadata": {
    "scrolled": false
   },
   "outputs": [],
   "source": [
    "figShift, axShift = plt.subplots(3,2, figsize=(10,12))\n",
    "\n",
    "indices = [0, 3, 6, 9, 17, 25, 33]\n",
    "title = ['Position', 'Velocity', 'Rates', 'Voltage', 'Current', 'RPM']\n",
    "\n",
    "# iterate over 6 plots\n",
    "for idx in range(6):\n",
    "    \n",
    "    i = int(idx/2)\n",
    "    j = idx%2\n",
    "    \n",
    "    nValues = indices[idx+1]-indices[idx]\n",
    "    for k in range(nValues):\n",
    "        keyIdx = indices[idx] + k + 1\n",
    "        sns.lineplot(data=cross_correl, x='idx', y=keys[keyIdx], label=keys[keyIdx], ax=axShift[i][j])\n",
    "\n",
    "    axShift[i][j].set_ylim(-1,1)\n",
    "    axShift[i][j].set_xlim(-300,300)\n",
    "    axShift[i][j].set_title(title[idx])\n",
    "    \n",
    "    axShift[i][j].set_xlabel('Shift')\n",
    "    axShift[i][j].set_ylabel(title[idx])\n",
    "    \n",
    "    axShift[i][j].grid()\n",
    "\n",
    "figShift.tight_layout()"
   ]
  },
  {
   "cell_type": "code",
   "execution_count": null,
   "id": "c3765263",
   "metadata": {},
   "outputs": [],
   "source": [
    "figShift2, axShift2 = plt.subplots(3,2, figsize=(10,12))\n",
    "\n",
    "indices = [33, 37, 45, 46, 54, 58, 62]\n",
    "title = ['uIn', 'uOut', 'delta0', 'Power-Motor', 'dRpmArm', 'pArm', 'RPM']\n",
    "\n",
    "# iterate over 6 plots\n",
    "for idx in range(6):\n",
    "    \n",
    "    i = int(idx/2)\n",
    "    j = idx%2\n",
    "    \n",
    "    nValues = indices[idx+1]-indices[idx]\n",
    "    for k in range(nValues):\n",
    "        keyIdx = indices[idx] + k + 1\n",
    "        sns.lineplot(data=cross_correl, x='idx', y=keys[keyIdx], label=keys[keyIdx], ax=axShift2[i][j])\n",
    "\n",
    "    axShift2[i][j].set_ylim(-1,1)\n",
    "    axShift2[i][j].set_xlim(-300,300)\n",
    "    axShift2[i][j].set_title(title[idx])\n",
    "    \n",
    "    axShift2[i][j].set_xlabel('Shift')\n",
    "    axShift2[i][j].set_ylabel(title[idx])\n",
    "    \n",
    "    axShift2[i][j].grid()\n",
    "\n",
    "figShift2.tight_layout()"
   ]
  },
  {
   "cell_type": "markdown",
   "id": "44c25b7d",
   "metadata": {},
   "source": [
    "### Correlation Analysis"
   ]
  },
  {
   "cell_type": "code",
   "execution_count": null,
   "id": "f0fc9b53",
   "metadata": {
    "scrolled": false
   },
   "outputs": [],
   "source": [
    "df_corr = fd_hover.drop(columns={'t'})\n",
    "df_corr = df_corr.dropna()\n",
    "df_corr = np.abs(df_corr.corr())\n",
    "\n",
    "colormap = plt.cm.Blues\n",
    "\n",
    "fig17, ax17 = plt.subplots(figsize=(20,20))\n",
    "\n",
    "fig17.suptitle(u'Crosscorrelation', y=1.05, size=16)\n",
    "\n",
    "mask = np.zeros_like(df_corr)\n",
    "\n",
    "mask[np.triu_indices_from(mask)] = True\n",
    "\n",
    "svm = sns.heatmap(df_corr, mask=mask, linewidths=0.1,vmax=1.0, \n",
    "            square=True, cmap=colormap, linecolor='white', annot=False, cbar_kws={\"shrink\": .5})\n",
    "\n",
    "fig17.savefig('correlation.png', dpi=300)"
   ]
  },
  {
   "cell_type": "markdown",
   "id": "83b9d3ce",
   "metadata": {},
   "source": [
    "## Calculate velocities and accelerations"
   ]
  },
  {
   "cell_type": "code",
   "execution_count": null,
   "id": "56c7dafd",
   "metadata": {
    "scrolled": true
   },
   "outputs": [],
   "source": [
    "fd_smoothed = fd.rolling(30).mean()\n",
    "fd_smoothed['t'] = fd['t']\n",
    "fd_smoothed['du'] = fd_smoothed['u'].diff() / fd_smoothed['t'].diff()\n",
    "fd_smoothed['dv'] = fd_smoothed['u'].diff() / fd_smoothed['t'].diff()\n",
    "fd_smoothed['dw'] = fd_smoothed['u'].diff() / fd_smoothed['t'].diff()\n",
    "fd_smoothed\n",
    "\n",
    "df_corr.loc['pVehicle'].sort_values()"
   ]
  },
  {
   "cell_type": "code",
   "execution_count": null,
   "id": "c73a7ddb",
   "metadata": {},
   "outputs": [],
   "source": [
    "df_corr['pVehicle']"
   ]
  },
  {
   "cell_type": "code",
   "execution_count": null,
   "id": "59b542ef",
   "metadata": {},
   "outputs": [],
   "source": []
  }
 ],
 "metadata": {
  "kernelspec": {
   "display_name": "Python 3 (ipykernel)",
   "language": "python",
   "name": "python3"
  },
  "language_info": {
   "codemirror_mode": {
    "name": "ipython",
    "version": 3
   },
   "file_extension": ".py",
   "mimetype": "text/x-python",
   "name": "python",
   "nbconvert_exporter": "python",
   "pygments_lexer": "ipython3",
   "version": "3.10.4"
  }
 },
 "nbformat": 4,
 "nbformat_minor": 5
}
